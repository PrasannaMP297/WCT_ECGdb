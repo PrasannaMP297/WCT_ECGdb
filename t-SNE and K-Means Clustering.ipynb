{
 "cells": [
  {
   "cell_type": "code",
   "execution_count": 1,
   "metadata": {},
   "outputs": [],
   "source": [
    "%matplotlib inline\n",
    "import pandas as pd\n",
    "import numpy as np\n",
    "from sklearn.datasets import load_iris\n",
    "from sklearn.decomposition import PCA\n",
    "from sklearn.manifold import TSNE\n",
    "\n",
    "import matplotlib.pyplot as plt\n",
    "from matplotlib.colors import ListedColormap\n",
    "from mpl_toolkits.mplot3d import Axes3D\n",
    "import seaborn as sns"
   ]
  },
  {
   "cell_type": "code",
   "execution_count": 2,
   "metadata": {},
   "outputs": [],
   "source": [
    "PERPLEXITY=20\n",
    "ITERATION_N =2000\n",
    "RANDOM_STATE = 42"
   ]
  },
  {
   "cell_type": "code",
   "execution_count": 3,
   "metadata": {},
   "outputs": [],
   "source": [
    "df = pd.read_csv(r\"C:\\Users\\prAsann\\Desktop\\Capstone Project\\Fourier_Transformed_WCT.csv\")"
   ]
  },
  {
   "cell_type": "code",
   "execution_count": 4,
   "metadata": {
    "scrolled": false
   },
   "outputs": [
    {
     "data": {
      "text/html": [
       "<div>\n",
       "<style scoped>\n",
       "    .dataframe tbody tr th:only-of-type {\n",
       "        vertical-align: middle;\n",
       "    }\n",
       "\n",
       "    .dataframe tbody tr th {\n",
       "        vertical-align: top;\n",
       "    }\n",
       "\n",
       "    .dataframe thead th {\n",
       "        text-align: right;\n",
       "    }\n",
       "</style>\n",
       "<table border=\"1\" class=\"dataframe\">\n",
       "  <thead>\n",
       "    <tr style=\"text-align: right;\">\n",
       "      <th></th>\n",
       "      <th>Patient ID</th>\n",
       "      <th>Comments of Patients</th>\n",
       "      <th>Unnamed: 2</th>\n",
       "      <th>Unnamed: 3</th>\n",
       "      <th>I-Raw</th>\n",
       "      <th>I-raw(real)</th>\n",
       "      <th>I-raw(imag)</th>\n",
       "      <th>II-Raw</th>\n",
       "      <th>II-raw(real)</th>\n",
       "      <th>II-raw(imag)</th>\n",
       "      <th>...</th>\n",
       "      <th>UV4(imag)</th>\n",
       "      <th>UV5</th>\n",
       "      <th>UV5(real)</th>\n",
       "      <th>UV5(imag)</th>\n",
       "      <th>UV6</th>\n",
       "      <th>UV6(real)</th>\n",
       "      <th>UV6(imag)</th>\n",
       "      <th>WCT</th>\n",
       "      <th>WCT(real)</th>\n",
       "      <th>WCT(imag)</th>\n",
       "    </tr>\n",
       "  </thead>\n",
       "  <tbody>\n",
       "    <tr>\n",
       "      <th>0</th>\n",
       "      <td>patient001</td>\n",
       "      <td>Age: 46</td>\n",
       "      <td>Sex: M</td>\n",
       "      <td>Diagnosis report: Non ST segment elevation myo...</td>\n",
       "      <td>0.1832743937389645-0.38316677887422790.0157715...</td>\n",
       "      <td>0.1832743937389645</td>\n",
       "      <td>0.38316677887422790.0157715527837506420.173699...</td>\n",
       "      <td>0.08839254698785978-0.46058494392519740.018574...</td>\n",
       "      <td>0.08839254698785978</td>\n",
       "      <td>0.46058494392519740.018574163208737690.2102984...</td>\n",
       "      <td>...</td>\n",
       "      <td>0.470722063741797370.024206860631505780.216772...</td>\n",
       "      <td>-0.054040679304980195-0.57966340138374240.0219...</td>\n",
       "      <td>0.054040679304980195</td>\n",
       "      <td>0.57966340138374240.0219537816623985440.267167...</td>\n",
       "      <td>-0.1948170631050768-0.691155369173090.02956479...</td>\n",
       "      <td>0.1948170631050768</td>\n",
       "      <td>0.691155369173090.029564792326333960.326568174...</td>\n",
       "      <td>-0.3170091969449017-0.79643426352645690.029001...</td>\n",
       "      <td>0.3170091969449017</td>\n",
       "      <td>0.79643426352645690.029001522584057150.3786583...</td>\n",
       "    </tr>\n",
       "    <tr>\n",
       "      <th>1</th>\n",
       "      <td>patient002</td>\n",
       "      <td>Age: 74</td>\n",
       "      <td>Sex: F</td>\n",
       "      <td>Diagnosis report: Coronary artery disease</td>\n",
       "      <td>-1.627792634242524-1.88706324161069162.3825633...</td>\n",
       "      <td>1.627792634242524</td>\n",
       "      <td>1.88706324161069162.382563390852816</td>\n",
       "      <td>-1.6286314086073046-1.91241947436653842.375533...</td>\n",
       "      <td>1.6286314086073046</td>\n",
       "      <td>1.91241947436653842.3755332803069313</td>\n",
       "      <td>...</td>\n",
       "      <td>1.89017171147568172.3721484122663203</td>\n",
       "      <td>-1.6131644093207493-1.91637167176631132.368489...</td>\n",
       "      <td>1.6131644093207493</td>\n",
       "      <td>1.91637167176631132.3684894658418543</td>\n",
       "      <td>-1.6213172961464173-1.9433709528793672.3583622...</td>\n",
       "      <td>1.6213172961464173</td>\n",
       "      <td>1.9433709528793672.3583622695584063</td>\n",
       "      <td>-1.6199081552135859-1.95860245521781782.350756...</td>\n",
       "      <td>1.6199081552135859</td>\n",
       "      <td>1.95860245521781782.350756594406426</td>\n",
       "    </tr>\n",
       "    <tr>\n",
       "      <th>2</th>\n",
       "      <td>patient003</td>\n",
       "      <td>Age: 55</td>\n",
       "      <td>Sex: M</td>\n",
       "      <td>Diagnosis report: Non ST segment elevation myo...</td>\n",
       "      <td>2.0833024665065247-2.0911828422004763-3.156475...</td>\n",
       "      <td>2.0833024665065247</td>\n",
       "      <td>2.0911828422004763</td>\n",
       "      <td>2.081892144201671-2.096825042148551-3.16831246...</td>\n",
       "      <td>2.081892144201671</td>\n",
       "      <td>2.096825042148551</td>\n",
       "      <td>...</td>\n",
       "      <td>2.074290231512567</td>\n",
       "      <td>2.0813280152797295-2.070347489380177-3.1404432...</td>\n",
       "      <td>2.0813280152797295</td>\n",
       "      <td>2.070347489380177</td>\n",
       "      <td>2.07794324174808-2.068665026142649-3.137636860...</td>\n",
       "      <td>2.07794324174808</td>\n",
       "      <td>2.068665026142649</td>\n",
       "      <td>2.079353564052934-2.066404747247788-3.13677549...</td>\n",
       "      <td>2.079353564052934</td>\n",
       "      <td>2.066404747247788</td>\n",
       "    </tr>\n",
       "    <tr>\n",
       "      <th>3</th>\n",
       "      <td>patient004</td>\n",
       "      <td>Age: 69</td>\n",
       "      <td>Sex: F</td>\n",
       "      <td>Diagnosis report: Atypical chest pain</td>\n",
       "      <td>-2.436623894737715-1.62188741251763210.8093928...</td>\n",
       "      <td>2.436623894737715</td>\n",
       "      <td>1.62188741251763210.80939286942137072.52163388...</td>\n",
       "      <td>-2.451270720916812-1.59400154792727040.8423342...</td>\n",
       "      <td>2.451270720916812</td>\n",
       "      <td>1.59400154792727040.84233429023056482.57371201...</td>\n",
       "      <td>...</td>\n",
       "      <td>1.63144828037718480.93607914990298792.58976441...</td>\n",
       "      <td>-2.5540195883392327-1.60668107982672480.918064...</td>\n",
       "      <td>2.5540195883392327</td>\n",
       "      <td>1.60668107982672480.91806469944535232.61453000...</td>\n",
       "      <td>-2.5120688673206115-1.5785220475832330.9011707...</td>\n",
       "      <td>2.5120688673206115</td>\n",
       "      <td>1.5785220475832330.90117070547782532.622438914...</td>\n",
       "      <td>-2.4898222728410393-1.5790911468605870.8718894...</td>\n",
       "      <td>2.4898222728410393</td>\n",
       "      <td>1.5790911468605870.87188944253631942.624114529...</td>\n",
       "    </tr>\n",
       "    <tr>\n",
       "      <th>4</th>\n",
       "      <td>patient005</td>\n",
       "      <td>Age: 87</td>\n",
       "      <td>Sex: M</td>\n",
       "      <td>Diagnosis report: Atrial fibrillation</td>\n",
       "      <td>-3.761482251302726-4.388166234759397-0.5582724...</td>\n",
       "      <td>3.761482251302726</td>\n",
       "      <td>4.388166234759397</td>\n",
       "      <td>-3.7668295119824955-4.395488174341192-0.559104...</td>\n",
       "      <td>3.7668295119824955</td>\n",
       "      <td>4.395488174341192</td>\n",
       "      <td>...</td>\n",
       "      <td>4.409008581293819</td>\n",
       "      <td>-3.7459974755842267-4.396049910446674-0.581074...</td>\n",
       "      <td>3.7459974755842267</td>\n",
       "      <td>4.396049910446674</td>\n",
       "      <td>-3.7510662331035918-4.408446845188338-0.589796...</td>\n",
       "      <td>3.7510662331035918</td>\n",
       "      <td>4.408446845188338</td>\n",
       "      <td>-3.755577984302147-4.4081562920303305-0.587553...</td>\n",
       "      <td>3.755577984302147</td>\n",
       "      <td>4.4081562920303305</td>\n",
       "    </tr>\n",
       "  </tbody>\n",
       "</table>\n",
       "<p>5 rows × 115 columns</p>\n",
       "</div>"
      ],
      "text/plain": [
       "   Patient ID Comments of Patients Unnamed: 2  \\\n",
       "0  patient001              Age: 46     Sex: M   \n",
       "1  patient002              Age: 74     Sex: F   \n",
       "2  patient003              Age: 55     Sex: M   \n",
       "3  patient004              Age: 69     Sex: F   \n",
       "4  patient005              Age: 87     Sex: M   \n",
       "\n",
       "                                          Unnamed: 3  \\\n",
       "0  Diagnosis report: Non ST segment elevation myo...   \n",
       "1          Diagnosis report: Coronary artery disease   \n",
       "2  Diagnosis report: Non ST segment elevation myo...   \n",
       "3              Diagnosis report: Atypical chest pain   \n",
       "4              Diagnosis report: Atrial fibrillation   \n",
       "\n",
       "                                               I-Raw         I-raw(real)  \\\n",
       "0  0.1832743937389645-0.38316677887422790.0157715...  0.1832743937389645   \n",
       "1  -1.627792634242524-1.88706324161069162.3825633...   1.627792634242524   \n",
       "2  2.0833024665065247-2.0911828422004763-3.156475...  2.0833024665065247   \n",
       "3  -2.436623894737715-1.62188741251763210.8093928...   2.436623894737715   \n",
       "4  -3.761482251302726-4.388166234759397-0.5582724...   3.761482251302726   \n",
       "\n",
       "                                         I-raw(imag)  \\\n",
       "0  0.38316677887422790.0157715527837506420.173699...   \n",
       "1                1.88706324161069162.382563390852816   \n",
       "2                                 2.0911828422004763   \n",
       "3  1.62188741251763210.80939286942137072.52163388...   \n",
       "4                                  4.388166234759397   \n",
       "\n",
       "                                              II-Raw         II-raw(real)  \\\n",
       "0  0.08839254698785978-0.46058494392519740.018574...  0.08839254698785978   \n",
       "1  -1.6286314086073046-1.91241947436653842.375533...   1.6286314086073046   \n",
       "2  2.081892144201671-2.096825042148551-3.16831246...    2.081892144201671   \n",
       "3  -2.451270720916812-1.59400154792727040.8423342...    2.451270720916812   \n",
       "4  -3.7668295119824955-4.395488174341192-0.559104...   3.7668295119824955   \n",
       "\n",
       "                                        II-raw(imag)  ...  \\\n",
       "0  0.46058494392519740.018574163208737690.2102984...  ...   \n",
       "1               1.91241947436653842.3755332803069313  ...   \n",
       "2                                  2.096825042148551  ...   \n",
       "3  1.59400154792727040.84233429023056482.57371201...  ...   \n",
       "4                                  4.395488174341192  ...   \n",
       "\n",
       "                                           UV4(imag)  \\\n",
       "0  0.470722063741797370.024206860631505780.216772...   \n",
       "1               1.89017171147568172.3721484122663203   \n",
       "2                                  2.074290231512567   \n",
       "3  1.63144828037718480.93607914990298792.58976441...   \n",
       "4                                  4.409008581293819   \n",
       "\n",
       "                                                 UV5             UV5(real)  \\\n",
       "0  -0.054040679304980195-0.57966340138374240.0219...  0.054040679304980195   \n",
       "1  -1.6131644093207493-1.91637167176631132.368489...    1.6131644093207493   \n",
       "2  2.0813280152797295-2.070347489380177-3.1404432...    2.0813280152797295   \n",
       "3  -2.5540195883392327-1.60668107982672480.918064...    2.5540195883392327   \n",
       "4  -3.7459974755842267-4.396049910446674-0.581074...    3.7459974755842267   \n",
       "\n",
       "                                           UV5(imag)  \\\n",
       "0  0.57966340138374240.0219537816623985440.267167...   \n",
       "1               1.91637167176631132.3684894658418543   \n",
       "2                                  2.070347489380177   \n",
       "3  1.60668107982672480.91806469944535232.61453000...   \n",
       "4                                  4.396049910446674   \n",
       "\n",
       "                                                 UV6           UV6(real)  \\\n",
       "0  -0.1948170631050768-0.691155369173090.02956479...  0.1948170631050768   \n",
       "1  -1.6213172961464173-1.9433709528793672.3583622...  1.6213172961464173   \n",
       "2  2.07794324174808-2.068665026142649-3.137636860...    2.07794324174808   \n",
       "3  -2.5120688673206115-1.5785220475832330.9011707...  2.5120688673206115   \n",
       "4  -3.7510662331035918-4.408446845188338-0.589796...  3.7510662331035918   \n",
       "\n",
       "                                           UV6(imag)  \\\n",
       "0  0.691155369173090.029564792326333960.326568174...   \n",
       "1                1.9433709528793672.3583622695584063   \n",
       "2                                  2.068665026142649   \n",
       "3  1.5785220475832330.90117070547782532.622438914...   \n",
       "4                                  4.408446845188338   \n",
       "\n",
       "                                                 WCT           WCT(real)  \\\n",
       "0  -0.3170091969449017-0.79643426352645690.029001...  0.3170091969449017   \n",
       "1  -1.6199081552135859-1.95860245521781782.350756...  1.6199081552135859   \n",
       "2  2.079353564052934-2.066404747247788-3.13677549...   2.079353564052934   \n",
       "3  -2.4898222728410393-1.5790911468605870.8718894...  2.4898222728410393   \n",
       "4  -3.755577984302147-4.4081562920303305-0.587553...   3.755577984302147   \n",
       "\n",
       "                                           WCT(imag)  \n",
       "0  0.79643426352645690.029001522584057150.3786583...  \n",
       "1                1.95860245521781782.350756594406426  \n",
       "2                                  2.066404747247788  \n",
       "3  1.5790911468605870.87188944253631942.624114529...  \n",
       "4                                 4.4081562920303305  \n",
       "\n",
       "[5 rows x 115 columns]"
      ]
     },
     "execution_count": 4,
     "metadata": {},
     "output_type": "execute_result"
    }
   ],
   "source": [
    "df.head()"
   ]
  },
  {
   "cell_type": "code",
   "execution_count": 5,
   "metadata": {},
   "outputs": [],
   "source": [
    "features = ['I-raw(real)','I-raw(imag)','II-raw(real)','II-raw(imag)','III-raw(real)','III-raw(imag)','V1-Raw(real)',\n",
    "            'V1-Raw(imag)','V2-Raw(real)','V2-Raw(imag)','V3-Raw(real)','V3-Raw(imag)','V4-Raw(real)','V4-Raw(imag)',\n",
    "            'V5-Raw(real)','V5-Raw(imag)','V6-Raw(real)','V6-Raw(imag)','LA-Raw(real)','LA-Raw(imag)','RA-Raw(real)',\n",
    "            'RA-Raw(imag)','LL-Raw(real)','LL-Raw(imag)','UV1-Raw(real)','UV1-Raw(imag)','UV2-Raw(real)','UV2-Raw(imag)',\n",
    "            'UV3-Raw(real)','UV3-Raw(imag)','UV4-Raw(real)','UV4-Raw(imag)','UV5-Raw(real)','UV5-Raw(imag)',\n",
    "            'UV6-Raw(real)','UV6-Raw(imag)','I(real)','I(imag)','II(real)','II(imag)','III(real)','III(imag)','V1(real)',\n",
    "            'V1(imag)','V2(real)','V2(imag)','V3(real)','V3(imag)','V4(real)','V4(imag)','V5(real)','V5(imag)',\n",
    "            'V6(real)','V6(imag)','LA(real)','LA(imag)','RA(real)','RA(imag)','LL(real)','LL(imag)','UV1(real)',\n",
    "            'UV1(imag)','UV2(real)','UV2(imag)','UV3(real)','UV3(imag)','UV4(real)','UV4(imag)','UV5(real)',\n",
    "            'UV5(imag)','UV6(real)','UV6(imag)','WCT(real)','WCT(imag)']"
   ]
  },
  {
   "cell_type": "code",
   "execution_count": 6,
   "metadata": {
    "scrolled": false
   },
   "outputs": [],
   "source": [
    "temp = pd.DataFrame(df[features])"
   ]
  },
  {
   "cell_type": "code",
   "execution_count": 7,
   "metadata": {},
   "outputs": [],
   "source": [
    "def modify_data(data):\n",
    "    y = data\n",
    "    result=[]\n",
    "    for x in y:\n",
    "        if len(x)>=5:\n",
    "            new = x.split('.')\n",
    "            i = new[0]+'.'+new[1]\n",
    "            j = float(i)\n",
    "            result.append(j)\n",
    "    return result"
   ]
  },
  {
   "cell_type": "code",
   "execution_count": 8,
   "metadata": {
    "scrolled": true
   },
   "outputs": [
    {
     "data": {
      "text/html": [
       "<div>\n",
       "<style scoped>\n",
       "    .dataframe tbody tr th:only-of-type {\n",
       "        vertical-align: middle;\n",
       "    }\n",
       "\n",
       "    .dataframe tbody tr th {\n",
       "        vertical-align: top;\n",
       "    }\n",
       "\n",
       "    .dataframe thead th {\n",
       "        text-align: right;\n",
       "    }\n",
       "</style>\n",
       "<table border=\"1\" class=\"dataframe\">\n",
       "  <thead>\n",
       "    <tr style=\"text-align: right;\">\n",
       "      <th></th>\n",
       "      <th>I-raw(real)</th>\n",
       "      <th>I-raw(imag)</th>\n",
       "      <th>II-raw(real)</th>\n",
       "      <th>II-raw(imag)</th>\n",
       "      <th>III-raw(real)</th>\n",
       "      <th>III-raw(imag)</th>\n",
       "      <th>V1-Raw(real)</th>\n",
       "      <th>V1-Raw(imag)</th>\n",
       "      <th>V2-Raw(real)</th>\n",
       "      <th>V2-Raw(imag)</th>\n",
       "      <th>...</th>\n",
       "      <th>UV3(real)</th>\n",
       "      <th>UV3(imag)</th>\n",
       "      <th>UV4(real)</th>\n",
       "      <th>UV4(imag)</th>\n",
       "      <th>UV5(real)</th>\n",
       "      <th>UV5(imag)</th>\n",
       "      <th>UV6(real)</th>\n",
       "      <th>UV6(imag)</th>\n",
       "      <th>WCT(real)</th>\n",
       "      <th>WCT(imag)</th>\n",
       "    </tr>\n",
       "  </thead>\n",
       "  <tbody>\n",
       "    <tr>\n",
       "      <th>0</th>\n",
       "      <td>0.1832743937389645</td>\n",
       "      <td>0.38316677887422790.0157715527837506420.173699...</td>\n",
       "      <td>0.08839254698785978</td>\n",
       "      <td>0.46058494392519740.018574163208737690.2102984...</td>\n",
       "      <td>0.04307790481132811</td>\n",
       "      <td>0.56615814175711080.0233688251612890650.264073...</td>\n",
       "      <td>0.18382667456987897</td>\n",
       "      <td>0.6832745760253460.0270232093428898240.3226264...</td>\n",
       "      <td>0.30347831658749735</td>\n",
       "      <td>0.79278817043113140.023080321146952160.3783720...</td>\n",
       "      <td>...</td>\n",
       "      <td>0.17314004049168413</td>\n",
       "      <td>0.39188143187785340.0171728579962441670.181021...</td>\n",
       "      <td>0.07883808861303958</td>\n",
       "      <td>0.470722063741797370.024206860631505780.216772...</td>\n",
       "      <td>0.054040679304980195</td>\n",
       "      <td>0.57966340138374240.0219537816623985440.267167...</td>\n",
       "      <td>0.1948170631050768</td>\n",
       "      <td>0.691155369173090.029564792326333960.326568174...</td>\n",
       "      <td>0.3170091969449017</td>\n",
       "      <td>0.79643426352645690.029001522584057150.3786583...</td>\n",
       "    </tr>\n",
       "    <tr>\n",
       "      <th>1</th>\n",
       "      <td>1.627792634242524</td>\n",
       "      <td>1.88706324161069162.382563390852816</td>\n",
       "      <td>1.6286314086073046</td>\n",
       "      <td>1.91241947436653842.3755332803069313</td>\n",
       "      <td>1.6325904236090694</td>\n",
       "      <td>1.9340899499967542.3752454980038835</td>\n",
       "      <td>1.636247479839513</td>\n",
       "      <td>1.95718144042239372.365954240791194</td>\n",
       "      <td>1.6348383389066816</td>\n",
       "      <td>1.97041464070477962.362857155053631</td>\n",
       "      <td>...</td>\n",
       "      <td>1.6052799302918113</td>\n",
       "      <td>1.8760947836585132.370462830205611</td>\n",
       "      <td>1.6072258868181024</td>\n",
       "      <td>1.89017171147568172.3721484122663203</td>\n",
       "      <td>1.6131644093207493</td>\n",
       "      <td>1.91637167176631132.3684894658418543</td>\n",
       "      <td>1.6213172961464173</td>\n",
       "      <td>1.9433709528793672.3583622695584063</td>\n",
       "      <td>1.6199081552135859</td>\n",
       "      <td>1.95860245521781782.350756594406426</td>\n",
       "    </tr>\n",
       "    <tr>\n",
       "      <th>2</th>\n",
       "      <td>2.0833024665065247</td>\n",
       "      <td>2.0911828422004763</td>\n",
       "      <td>2.081892144201671</td>\n",
       "      <td>2.096825042148551</td>\n",
       "      <td>2.0740199815182137</td>\n",
       "      <td>2.1106076450337565</td>\n",
       "      <td>2.0711993369085056</td>\n",
       "      <td>2.1100468239545807</td>\n",
       "      <td>2.0824562731236127</td>\n",
       "      <td>2.1058321685716814</td>\n",
       "      <td>...</td>\n",
       "      <td>2.0833024665065247</td>\n",
       "      <td>2.061629270785713</td>\n",
       "      <td>2.0799176929748753</td>\n",
       "      <td>2.074290231512567</td>\n",
       "      <td>2.0813280152797295</td>\n",
       "      <td>2.070347489380177</td>\n",
       "      <td>2.07794324174808</td>\n",
       "      <td>2.068665026142649</td>\n",
       "      <td>2.079353564052934</td>\n",
       "      <td>2.066404747247788</td>\n",
       "    </tr>\n",
       "    <tr>\n",
       "      <th>3</th>\n",
       "      <td>2.436623894737715</td>\n",
       "      <td>1.62188741251763210.80939286942137072.52163388...</td>\n",
       "      <td>2.451270720916812</td>\n",
       "      <td>1.59400154792727040.84233429023056482.57371201...</td>\n",
       "      <td>2.4760321478158143</td>\n",
       "      <td>1.55571254854687150.90398429621965372.63198992...</td>\n",
       "      <td>2.4957362743548637</td>\n",
       "      <td>1.53488351499570340.93551892165793362.66466442...</td>\n",
       "      <td>2.494050507568213</td>\n",
       "      <td>1.51068541372259760.94790619063191252.67816988...</td>\n",
       "      <td>...</td>\n",
       "      <td>2.5540195883392327</td>\n",
       "      <td>1.63229054730766920.92397821980981462.55571590...</td>\n",
       "      <td>2.584142306330206</td>\n",
       "      <td>1.63144828037718480.93607914990298792.58976441...</td>\n",
       "      <td>2.5540195883392327</td>\n",
       "      <td>1.60668107982672480.91806469944535232.61453000...</td>\n",
       "      <td>2.5120688673206115</td>\n",
       "      <td>1.5785220475832330.90117070547782532.622438914...</td>\n",
       "      <td>2.4898222728410393</td>\n",
       "      <td>1.5790911468605870.87188944253631942.624114529...</td>\n",
       "    </tr>\n",
       "    <tr>\n",
       "      <th>4</th>\n",
       "      <td>3.761482251302726</td>\n",
       "      <td>4.388166234759397</td>\n",
       "      <td>3.7668295119824955</td>\n",
       "      <td>4.395488174341192</td>\n",
       "      <td>3.7589571559817236</td>\n",
       "      <td>4.397173382657638</td>\n",
       "      <td>3.7648614229823028</td>\n",
       "      <td>4.401124905606543</td>\n",
       "      <td>3.7651399261427074</td>\n",
       "      <td>4.405347611502922</td>\n",
       "      <td>...</td>\n",
       "      <td>3.7521988126225705</td>\n",
       "      <td>4.398025671921126</td>\n",
       "      <td>3.7536098953019543</td>\n",
       "      <td>4.409008581293819</td>\n",
       "      <td>3.7459974755842267</td>\n",
       "      <td>4.396049910446674</td>\n",
       "      <td>3.7510662331035918</td>\n",
       "      <td>4.408446845188338</td>\n",
       "      <td>3.755577984302147</td>\n",
       "      <td>4.4081562920303305</td>\n",
       "    </tr>\n",
       "  </tbody>\n",
       "</table>\n",
       "<p>5 rows × 74 columns</p>\n",
       "</div>"
      ],
      "text/plain": [
       "          I-raw(real)                                        I-raw(imag)  \\\n",
       "0  0.1832743937389645  0.38316677887422790.0157715527837506420.173699...   \n",
       "1   1.627792634242524                1.88706324161069162.382563390852816   \n",
       "2  2.0833024665065247                                 2.0911828422004763   \n",
       "3   2.436623894737715  1.62188741251763210.80939286942137072.52163388...   \n",
       "4   3.761482251302726                                  4.388166234759397   \n",
       "\n",
       "          II-raw(real)                                       II-raw(imag)  \\\n",
       "0  0.08839254698785978  0.46058494392519740.018574163208737690.2102984...   \n",
       "1   1.6286314086073046               1.91241947436653842.3755332803069313   \n",
       "2    2.081892144201671                                  2.096825042148551   \n",
       "3    2.451270720916812  1.59400154792727040.84233429023056482.57371201...   \n",
       "4   3.7668295119824955                                  4.395488174341192   \n",
       "\n",
       "         III-raw(real)                                      III-raw(imag)  \\\n",
       "0  0.04307790481132811  0.56615814175711080.0233688251612890650.264073...   \n",
       "1   1.6325904236090694                1.9340899499967542.3752454980038835   \n",
       "2   2.0740199815182137                                 2.1106076450337565   \n",
       "3   2.4760321478158143  1.55571254854687150.90398429621965372.63198992...   \n",
       "4   3.7589571559817236                                  4.397173382657638   \n",
       "\n",
       "          V1-Raw(real)                                       V1-Raw(imag)  \\\n",
       "0  0.18382667456987897  0.6832745760253460.0270232093428898240.3226264...   \n",
       "1    1.636247479839513                1.95718144042239372.365954240791194   \n",
       "2   2.0711993369085056                                 2.1100468239545807   \n",
       "3   2.4957362743548637  1.53488351499570340.93551892165793362.66466442...   \n",
       "4   3.7648614229823028                                  4.401124905606543   \n",
       "\n",
       "          V2-Raw(real)                                       V2-Raw(imag)  \\\n",
       "0  0.30347831658749735  0.79278817043113140.023080321146952160.3783720...   \n",
       "1   1.6348383389066816                1.97041464070477962.362857155053631   \n",
       "2   2.0824562731236127                                 2.1058321685716814   \n",
       "3    2.494050507568213  1.51068541372259760.94790619063191252.67816988...   \n",
       "4   3.7651399261427074                                  4.405347611502922   \n",
       "\n",
       "   ...            UV3(real)  \\\n",
       "0  ...  0.17314004049168413   \n",
       "1  ...   1.6052799302918113   \n",
       "2  ...   2.0833024665065247   \n",
       "3  ...   2.5540195883392327   \n",
       "4  ...   3.7521988126225705   \n",
       "\n",
       "                                           UV3(imag)            UV4(real)  \\\n",
       "0  0.39188143187785340.0171728579962441670.181021...  0.07883808861303958   \n",
       "1                 1.8760947836585132.370462830205611   1.6072258868181024   \n",
       "2                                  2.061629270785713   2.0799176929748753   \n",
       "3  1.63229054730766920.92397821980981462.55571590...    2.584142306330206   \n",
       "4                                  4.398025671921126   3.7536098953019543   \n",
       "\n",
       "                                           UV4(imag)             UV5(real)  \\\n",
       "0  0.470722063741797370.024206860631505780.216772...  0.054040679304980195   \n",
       "1               1.89017171147568172.3721484122663203    1.6131644093207493   \n",
       "2                                  2.074290231512567    2.0813280152797295   \n",
       "3  1.63144828037718480.93607914990298792.58976441...    2.5540195883392327   \n",
       "4                                  4.409008581293819    3.7459974755842267   \n",
       "\n",
       "                                           UV5(imag)           UV6(real)  \\\n",
       "0  0.57966340138374240.0219537816623985440.267167...  0.1948170631050768   \n",
       "1               1.91637167176631132.3684894658418543  1.6213172961464173   \n",
       "2                                  2.070347489380177    2.07794324174808   \n",
       "3  1.60668107982672480.91806469944535232.61453000...  2.5120688673206115   \n",
       "4                                  4.396049910446674  3.7510662331035918   \n",
       "\n",
       "                                           UV6(imag)           WCT(real)  \\\n",
       "0  0.691155369173090.029564792326333960.326568174...  0.3170091969449017   \n",
       "1                1.9433709528793672.3583622695584063  1.6199081552135859   \n",
       "2                                  2.068665026142649   2.079353564052934   \n",
       "3  1.5785220475832330.90117070547782532.622438914...  2.4898222728410393   \n",
       "4                                  4.408446845188338   3.755577984302147   \n",
       "\n",
       "                                           WCT(imag)  \n",
       "0  0.79643426352645690.029001522584057150.3786583...  \n",
       "1                1.95860245521781782.350756594406426  \n",
       "2                                  2.066404747247788  \n",
       "3  1.5790911468605870.87188944253631942.624114529...  \n",
       "4                                 4.4081562920303305  \n",
       "\n",
       "[5 rows x 74 columns]"
      ]
     },
     "execution_count": 8,
     "metadata": {},
     "output_type": "execute_result"
    }
   ],
   "source": [
    "temp.head()"
   ]
  },
  {
   "cell_type": "code",
   "execution_count": 9,
   "metadata": {},
   "outputs": [
    {
     "data": {
      "text/plain": [
       "(92, 74)"
      ]
     },
     "execution_count": 9,
     "metadata": {},
     "output_type": "execute_result"
    }
   ],
   "source": [
    "new_df = temp.apply(modify_data)\n",
    "new_df.shape"
   ]
  },
  {
   "cell_type": "code",
   "execution_count": 10,
   "metadata": {},
   "outputs": [
    {
     "data": {
      "text/plain": [
       "(92, 2)"
      ]
     },
     "execution_count": 10,
     "metadata": {},
     "output_type": "execute_result"
    }
   ],
   "source": [
    "tsne = TSNE(n_components=2, perplexity=PERPLEXITY, n_iter=ITERATION_N, random_state=RANDOM_STATE)\n",
    "points = tsne.fit_transform(new_df)\n",
    "x_point = points[:,0]\n",
    "y_point = points[:,1]\n",
    "points.shape"
   ]
  },
  {
   "cell_type": "code",
   "execution_count": 11,
   "metadata": {},
   "outputs": [
    {
     "data": {
      "image/png": "[encoded data removed]",
      "text/plain": [
       "<Figure size 432x288 with 1 Axes>"
      ]
     },
     "metadata": {
      "needs_background": "light"
     },
     "output_type": "display_data"
    }
   ],
   "source": [
    "plt.scatter(x_point,y_point)\n",
    "plt.xlabel(\"1st eigen vector\")\n",
    "plt.ylabel(\"2nd eigen vector\")\n",
    "plt.title(f\"t-SNE with perplexity {PERPLEXITY} & {ITERATION_N} iteration.\")\n",
    "plt.show()"
   ]
  },
  {
   "cell_type": "code",
   "execution_count": 12,
   "metadata": {},
   "outputs": [
    {
     "data": {
      "text/html": [
       "        <script type=\"text/javascript\">\n",
       "        window.PlotlyConfig = {MathJaxConfig: 'local'};\n",
       "        if (window.MathJax) {MathJax.Hub.Config({SVG: {font: \"STIX-Web\"}});}\n",
       "        if (typeof require !== 'undefined') {\n",
       "        require.undef(\"plotly\");\n",
       "        requirejs.config({\n",
       "            paths: {\n",
       "                'plotly': ['https://cdn.plot.ly/plotly-latest.min']\n",
       "            }\n",
       "        });\n",
       "        require(['plotly'], function(Plotly) {\n",
       "            window._Plotly = Plotly;\n",
       "        });\n",
       "        }\n",
       "        </script>\n",
       "        "
      ]
     },
     "metadata": {},
     "output_type": "display_data"
    }
   ],
   "source": [
    "import plotly as py\n",
    "import plotly.graph_objects as go\n",
    "import ipywidgets as widgets\n",
    "from ipywidgets import interact\n",
    "from plotly.offline import download_plotlyjs, init_notebook_mode, plot, iplot\n",
    "\n",
    "# Set-Up offline mode\n",
    "py.offline.init_notebook_mode(connected=True)"
   ]
  },
  {
   "cell_type": "code",
   "execution_count": 13,
   "metadata": {},
   "outputs": [
    {
     "data": {
      "application/vnd.jupyter.widget-view+json": {
       "model_id": "eabd486040514e8394d1a2e085b51891",
       "version_major": 2,
       "version_minor": 0
      },
      "text/plain": [
       "interactive(children=(IntSlider(value=25, description='Perplexity', max=50), IntSlider(value=2750, description…"
      ]
     },
     "metadata": {},
     "output_type": "display_data"
    },
    {
     "data": {
      "text/plain": [
       "<function __main__.f(Perplexity, Iteration)>"
      ]
     },
     "execution_count": 13,
     "metadata": {},
     "output_type": "execute_result"
    }
   ],
   "source": [
    "def f(Perplexity,Iteration):\n",
    "    tsne = TSNE(n_components=2, perplexity=Perplexity, n_iter=Iteration, random_state=RANDOM_STATE)\n",
    "    points = tsne.fit_transform(new_df)\n",
    "    x_point = points[:,0]\n",
    "    y_point = points[:,1]\n",
    "    trace = go.Scatter(\n",
    "        x = x_point,\n",
    "        y = y_point,\n",
    "        mode = 'markers')\n",
    "    data = [trace]\n",
    "    iplot(data)\n",
    "interact(f,Perplexity=(0,50),Iteration=(500,5000))\n"
   ]
  },
  {
   "cell_type": "markdown",
   "metadata": {},
   "source": [
    "## K-Means clustering"
   ]
  },
  {
   "cell_type": "markdown",
   "metadata": {},
   "source": [
    "### Import Dataset "
   ]
  },
  {
   "cell_type": "code",
   "execution_count": 14,
   "metadata": {},
   "outputs": [],
   "source": [
    "dataset = new_df\n",
    "X = dataset.iloc[:,[-1,-2]].values"
   ]
  },
  {
   "cell_type": "markdown",
   "metadata": {},
   "source": [
    "### Plotting Elbow Method "
   ]
  },
  {
   "cell_type": "code",
   "execution_count": 15,
   "metadata": {},
   "outputs": [
    {
     "data": {
      "image/png": "[encoded data removed]",
      "text/plain": [
       "<Figure size 432x288 with 1 Axes>"
      ]
     },
     "metadata": {
      "needs_background": "light"
     },
     "output_type": "display_data"
    }
   ],
   "source": [
    "from sklearn.cluster import KMeans\n",
    "ks = range(1, 11)\n",
    "inertias = []\n",
    "for k in ks:\n",
    "    # Create a KMeans instance with k clusters: model\n",
    "    model = KMeans(n_clusters=k, init= 'k-means++', random_state = 42)\n",
    "    \n",
    "    # Fit model to samples\n",
    "    model.fit(new_df.iloc[:,:3])\n",
    "    \n",
    "    # Append the inertia to the list of inertias\n",
    "    inertias.append(model.inertia_)\n",
    "    \n",
    "plt.plot(ks, inertias, '-o')\n",
    "plt.xlabel('number of clusters, k')\n",
    "plt.ylabel('WCSS')\n",
    "plt.xticks(ks)\n",
    "plt.show()"
   ]
  },
  {
   "cell_type": "markdown",
   "metadata": {},
   "source": [
    "### Training K-Means Model "
   ]
  },
  {
   "cell_type": "code",
   "execution_count": 16,
   "metadata": {},
   "outputs": [
    {
     "data": {
      "text/plain": [
       "array([0, 0, 2, 2, 2, 2, 0, 0, 0, 0, 1, 2, 2, 1, 1, 2, 2, 0, 2, 2, 2, 2,\n",
       "       1, 2, 0, 1, 1, 0, 1, 0, 2, 1, 2, 0, 2, 2, 0, 0, 2, 2, 2, 0, 2, 0,\n",
       "       0, 0, 2, 0, 1, 1, 0, 2, 2, 0, 0, 1, 0, 0, 1, 2, 0, 0, 0, 0, 0, 0,\n",
       "       0, 0, 0, 2, 0, 0, 0, 2, 1, 0, 0, 0, 0, 1, 0, 0, 0, 0, 0, 0, 0, 0,\n",
       "       0, 0, 0, 0])"
      ]
     },
     "execution_count": 16,
     "metadata": {},
     "output_type": "execute_result"
    }
   ],
   "source": [
    "kmeans = KMeans(n_clusters=3, init= 'k-means++', random_state = 42)\n",
    "y_kmeans = kmeans.fit_predict(X)\n",
    "y_kmeans"
   ]
  },
  {
   "cell_type": "markdown",
   "metadata": {},
   "source": [
    "### Visualization of K-Means clusters with their respective Centroids "
   ]
  },
  {
   "cell_type": "code",
   "execution_count": 17,
   "metadata": {
    "scrolled": true
   },
   "outputs": [
    {
     "data": {
      "image/png": "[encoded data removed]",
      "text/plain": [
       "<Figure size 432x288 with 1 Axes>"
      ]
     },
     "metadata": {
      "needs_background": "light"
     },
     "output_type": "display_data"
    }
   ],
   "source": [
    "plt.scatter(X[y_kmeans==0,0],X[y_kmeans==0,1], s = 100, c = 'red', label = 'Cluster 1')\n",
    "plt.scatter(X[y_kmeans==1,0],X[y_kmeans==1,1], s = 100, c = 'blue', label = 'Cluster 2')\n",
    "plt.scatter(X[y_kmeans==2,0],X[y_kmeans==2,1], s = 100, c = 'green', label = 'Cluster 3')\n",
    "plt.scatter(kmeans.cluster_centers_[:, 0], kmeans.cluster_centers_[:, 1], s = 300, c = 'yellow', label = 'Centroids')\n",
    "plt.title('Clusters of Patients')\n",
    "plt.xlabel('WCT-real')\n",
    "plt.ylabel('WCT-imag')\n",
    "plt.legend()\n",
    "plt.show()"
   ]
  },
  {
   "cell_type": "code",
   "execution_count": null,
   "metadata": {},
   "outputs": [],
   "source": []
  }
 ],
 "metadata": {
  "kernelspec": {
   "display_name": "Python 3",
   "language": "python",
   "name": "python3"
  },
  "language_info": {
   "codemirror_mode": {
    "name": "ipython",
    "version": 3
   },
   "file_extension": ".py",
   "mimetype": "text/x-python",
   "name": "python",
   "nbconvert_exporter": "python",
   "pygments_lexer": "ipython3",
   "version": "3.7.6"
  }
 },
 "nbformat": 4,
 "nbformat_minor": 4
}
