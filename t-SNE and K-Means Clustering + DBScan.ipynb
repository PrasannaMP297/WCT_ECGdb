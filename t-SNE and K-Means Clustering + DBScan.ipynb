{
 "cells": [
  {
   "cell_type": "code",
   "execution_count": 1,
   "metadata": {},
   "outputs": [],
   "source": [
    "import pandas as pd\n",
    "import numpy as np\n",
    "from sklearn.datasets import load_iris\n",
    "from sklearn.decomposition import PCA\n",
    "from sklearn.manifold import TSNE\n",
    "\n",
    "import matplotlib.pyplot as plt\n",
    "from matplotlib.colors import ListedColormap\n",
    "from mpl_toolkits.mplot3d import Axes3D\n",
    "import seaborn as sns"
   ]
  },
  {
   "cell_type": "code",
   "execution_count": 2,
   "metadata": {},
   "outputs": [],
   "source": [
    "PERPLEXITY=20\n",
    "ITERATION_N =2000\n",
    "RANDOM_STATE = 42"
   ]
  },
  {
   "cell_type": "code",
   "execution_count": 61,
   "metadata": {},
   "outputs": [],
   "source": [
    "df = pd.read_csv(r\"C:\\Users\\prAsann\\Desktop\\Capstone Project\\Fourier_Transformed_WCT.csv\")"
   ]
  },
  {
   "cell_type": "code",
   "execution_count": 62,
   "metadata": {
    "scrolled": false
   },
   "outputs": [
    {
     "data": {
      "text/html": [
       "<div>\n",
       "<style scoped>\n",
       "    .dataframe tbody tr th:only-of-type {\n",
       "        vertical-align: middle;\n",
       "    }\n",
       "\n",
       "    .dataframe tbody tr th {\n",
       "        vertical-align: top;\n",
       "    }\n",
       "\n",
       "    .dataframe thead th {\n",
       "        text-align: right;\n",
       "    }\n",
       "</style>\n",
       "<table border=\"1\" class=\"dataframe\">\n",
       "  <thead>\n",
       "    <tr style=\"text-align: right;\">\n",
       "      <th></th>\n",
       "      <th>Patient ID</th>\n",
       "      <th>Comments of Patients</th>\n",
       "      <th>Unnamed: 2</th>\n",
       "      <th>Unnamed: 3</th>\n",
       "      <th>I-Raw</th>\n",
       "      <th>I-raw(real)</th>\n",
       "      <th>I-raw(imag)</th>\n",
       "      <th>II-Raw</th>\n",
       "      <th>II-raw(real)</th>\n",
       "      <th>II-raw(imag)</th>\n",
       "      <th>...</th>\n",
       "      <th>UV4(imag)</th>\n",
       "      <th>UV5</th>\n",
       "      <th>UV5(real)</th>\n",
       "      <th>UV5(imag)</th>\n",
       "      <th>UV6</th>\n",
       "      <th>UV6(real)</th>\n",
       "      <th>UV6(imag)</th>\n",
       "      <th>WCT</th>\n",
       "      <th>WCT(real)</th>\n",
       "      <th>WCT(imag)</th>\n",
       "    </tr>\n",
       "  </thead>\n",
       "  <tbody>\n",
       "    <tr>\n",
       "      <th>0</th>\n",
       "      <td>patient001</td>\n",
       "      <td>Age: 46</td>\n",
       "      <td>Sex: M</td>\n",
       "      <td>Diagnosis report: Non ST segment elevation myo...</td>\n",
       "      <td>0.1832743937389645-0.38316677887422790.0157715...</td>\n",
       "      <td>0.1832743937389645</td>\n",
       "      <td>0.38316677887422790.0157715527837506420.173699...</td>\n",
       "      <td>0.08839254698785978-0.46058494392519740.018574...</td>\n",
       "      <td>0.08839254698785978</td>\n",
       "      <td>0.46058494392519740.018574163208737690.2102984...</td>\n",
       "      <td>...</td>\n",
       "      <td>0.470722063741797370.024206860631505780.216772...</td>\n",
       "      <td>-0.054040679304980195-0.57966340138374240.0219...</td>\n",
       "      <td>0.054040679304980195</td>\n",
       "      <td>0.57966340138374240.0219537816623985440.267167...</td>\n",
       "      <td>-0.1948170631050768-0.691155369173090.02956479...</td>\n",
       "      <td>0.1948170631050768</td>\n",
       "      <td>0.691155369173090.029564792326333960.326568174...</td>\n",
       "      <td>-0.3170091969449017-0.79643426352645690.029001...</td>\n",
       "      <td>0.3170091969449017</td>\n",
       "      <td>0.79643426352645690.029001522584057150.3786583...</td>\n",
       "    </tr>\n",
       "    <tr>\n",
       "      <th>1</th>\n",
       "      <td>patient002</td>\n",
       "      <td>Age: 74</td>\n",
       "      <td>Sex: F</td>\n",
       "      <td>Diagnosis report: Coronary artery disease</td>\n",
       "      <td>-1.627792634242524-1.88706324161069162.3825633...</td>\n",
       "      <td>1.627792634242524</td>\n",
       "      <td>1.88706324161069162.382563390852816</td>\n",
       "      <td>-1.6286314086073046-1.91241947436653842.375533...</td>\n",
       "      <td>1.6286314086073046</td>\n",
       "      <td>1.91241947436653842.3755332803069313</td>\n",
       "      <td>...</td>\n",
       "      <td>1.89017171147568172.3721484122663203</td>\n",
       "      <td>-1.6131644093207493-1.91637167176631132.368489...</td>\n",
       "      <td>1.6131644093207493</td>\n",
       "      <td>1.91637167176631132.3684894658418543</td>\n",
       "      <td>-1.6213172961464173-1.9433709528793672.3583622...</td>\n",
       "      <td>1.6213172961464173</td>\n",
       "      <td>1.9433709528793672.3583622695584063</td>\n",
       "      <td>-1.6199081552135859-1.95860245521781782.350756...</td>\n",
       "      <td>1.6199081552135859</td>\n",
       "      <td>1.95860245521781782.350756594406426</td>\n",
       "    </tr>\n",
       "    <tr>\n",
       "      <th>2</th>\n",
       "      <td>patient003</td>\n",
       "      <td>Age: 55</td>\n",
       "      <td>Sex: M</td>\n",
       "      <td>Diagnosis report: Non ST segment elevation myo...</td>\n",
       "      <td>2.0833024665065247-2.0911828422004763-3.156475...</td>\n",
       "      <td>2.0833024665065247</td>\n",
       "      <td>2.0911828422004763</td>\n",
       "      <td>2.081892144201671-2.096825042148551-3.16831246...</td>\n",
       "      <td>2.081892144201671</td>\n",
       "      <td>2.096825042148551</td>\n",
       "      <td>...</td>\n",
       "      <td>2.074290231512567</td>\n",
       "      <td>2.0813280152797295-2.070347489380177-3.1404432...</td>\n",
       "      <td>2.0813280152797295</td>\n",
       "      <td>2.070347489380177</td>\n",
       "      <td>2.07794324174808-2.068665026142649-3.137636860...</td>\n",
       "      <td>2.07794324174808</td>\n",
       "      <td>2.068665026142649</td>\n",
       "      <td>2.079353564052934-2.066404747247788-3.13677549...</td>\n",
       "      <td>2.079353564052934</td>\n",
       "      <td>2.066404747247788</td>\n",
       "    </tr>\n",
       "    <tr>\n",
       "      <th>3</th>\n",
       "      <td>patient004</td>\n",
       "      <td>Age: 69</td>\n",
       "      <td>Sex: F</td>\n",
       "      <td>Diagnosis report: Atypical chest pain</td>\n",
       "      <td>-2.436623894737715-1.62188741251763210.8093928...</td>\n",
       "      <td>2.436623894737715</td>\n",
       "      <td>1.62188741251763210.80939286942137072.52163388...</td>\n",
       "      <td>-2.451270720916812-1.59400154792727040.8423342...</td>\n",
       "      <td>2.451270720916812</td>\n",
       "      <td>1.59400154792727040.84233429023056482.57371201...</td>\n",
       "      <td>...</td>\n",
       "      <td>1.63144828037718480.93607914990298792.58976441...</td>\n",
       "      <td>-2.5540195883392327-1.60668107982672480.918064...</td>\n",
       "      <td>2.5540195883392327</td>\n",
       "      <td>1.60668107982672480.91806469944535232.61453000...</td>\n",
       "      <td>-2.5120688673206115-1.5785220475832330.9011707...</td>\n",
       "      <td>2.5120688673206115</td>\n",
       "      <td>1.5785220475832330.90117070547782532.622438914...</td>\n",
       "      <td>-2.4898222728410393-1.5790911468605870.8718894...</td>\n",
       "      <td>2.4898222728410393</td>\n",
       "      <td>1.5790911468605870.87188944253631942.624114529...</td>\n",
       "    </tr>\n",
       "    <tr>\n",
       "      <th>4</th>\n",
       "      <td>patient005</td>\n",
       "      <td>Age: 87</td>\n",
       "      <td>Sex: M</td>\n",
       "      <td>Diagnosis report: Atrial fibrillation</td>\n",
       "      <td>-3.761482251302726-4.388166234759397-0.5582724...</td>\n",
       "      <td>3.761482251302726</td>\n",
       "      <td>4.388166234759397</td>\n",
       "      <td>-3.7668295119824955-4.395488174341192-0.559104...</td>\n",
       "      <td>3.7668295119824955</td>\n",
       "      <td>4.395488174341192</td>\n",
       "      <td>...</td>\n",
       "      <td>4.409008581293819</td>\n",
       "      <td>-3.7459974755842267-4.396049910446674-0.581074...</td>\n",
       "      <td>3.7459974755842267</td>\n",
       "      <td>4.396049910446674</td>\n",
       "      <td>-3.7510662331035918-4.408446845188338-0.589796...</td>\n",
       "      <td>3.7510662331035918</td>\n",
       "      <td>4.408446845188338</td>\n",
       "      <td>-3.755577984302147-4.4081562920303305-0.587553...</td>\n",
       "      <td>3.755577984302147</td>\n",
       "      <td>4.4081562920303305</td>\n",
       "    </tr>\n",
       "  </tbody>\n",
       "</table>\n",
       "<p>5 rows × 115 columns</p>\n",
       "</div>"
      ],
      "text/plain": [
       "   Patient ID Comments of Patients Unnamed: 2  \\\n",
       "0  patient001              Age: 46     Sex: M   \n",
       "1  patient002              Age: 74     Sex: F   \n",
       "2  patient003              Age: 55     Sex: M   \n",
       "3  patient004              Age: 69     Sex: F   \n",
       "4  patient005              Age: 87     Sex: M   \n",
       "\n",
       "                                          Unnamed: 3  \\\n",
       "0  Diagnosis report: Non ST segment elevation myo...   \n",
       "1          Diagnosis report: Coronary artery disease   \n",
       "2  Diagnosis report: Non ST segment elevation myo...   \n",
       "3              Diagnosis report: Atypical chest pain   \n",
       "4              Diagnosis report: Atrial fibrillation   \n",
       "\n",
       "                                               I-Raw         I-raw(real)  \\\n",
       "0  0.1832743937389645-0.38316677887422790.0157715...  0.1832743937389645   \n",
       "1  -1.627792634242524-1.88706324161069162.3825633...   1.627792634242524   \n",
       "2  2.0833024665065247-2.0911828422004763-3.156475...  2.0833024665065247   \n",
       "3  -2.436623894737715-1.62188741251763210.8093928...   2.436623894737715   \n",
       "4  -3.761482251302726-4.388166234759397-0.5582724...   3.761482251302726   \n",
       "\n",
       "                                         I-raw(imag)  \\\n",
       "0  0.38316677887422790.0157715527837506420.173699...   \n",
       "1                1.88706324161069162.382563390852816   \n",
       "2                                 2.0911828422004763   \n",
       "3  1.62188741251763210.80939286942137072.52163388...   \n",
       "4                                  4.388166234759397   \n",
       "\n",
       "                                              II-Raw         II-raw(real)  \\\n",
       "0  0.08839254698785978-0.46058494392519740.018574...  0.08839254698785978   \n",
       "1  -1.6286314086073046-1.91241947436653842.375533...   1.6286314086073046   \n",
       "2  2.081892144201671-2.096825042148551-3.16831246...    2.081892144201671   \n",
       "3  -2.451270720916812-1.59400154792727040.8423342...    2.451270720916812   \n",
       "4  -3.7668295119824955-4.395488174341192-0.559104...   3.7668295119824955   \n",
       "\n",
       "                                        II-raw(imag)  ...  \\\n",
       "0  0.46058494392519740.018574163208737690.2102984...  ...   \n",
       "1               1.91241947436653842.3755332803069313  ...   \n",
       "2                                  2.096825042148551  ...   \n",
       "3  1.59400154792727040.84233429023056482.57371201...  ...   \n",
       "4                                  4.395488174341192  ...   \n",
       "\n",
       "                                           UV4(imag)  \\\n",
       "0  0.470722063741797370.024206860631505780.216772...   \n",
       "1               1.89017171147568172.3721484122663203   \n",
       "2                                  2.074290231512567   \n",
       "3  1.63144828037718480.93607914990298792.58976441...   \n",
       "4                                  4.409008581293819   \n",
       "\n",
       "                                                 UV5             UV5(real)  \\\n",
       "0  -0.054040679304980195-0.57966340138374240.0219...  0.054040679304980195   \n",
       "1  -1.6131644093207493-1.91637167176631132.368489...    1.6131644093207493   \n",
       "2  2.0813280152797295-2.070347489380177-3.1404432...    2.0813280152797295   \n",
       "3  -2.5540195883392327-1.60668107982672480.918064...    2.5540195883392327   \n",
       "4  -3.7459974755842267-4.396049910446674-0.581074...    3.7459974755842267   \n",
       "\n",
       "                                           UV5(imag)  \\\n",
       "0  0.57966340138374240.0219537816623985440.267167...   \n",
       "1               1.91637167176631132.3684894658418543   \n",
       "2                                  2.070347489380177   \n",
       "3  1.60668107982672480.91806469944535232.61453000...   \n",
       "4                                  4.396049910446674   \n",
       "\n",
       "                                                 UV6           UV6(real)  \\\n",
       "0  -0.1948170631050768-0.691155369173090.02956479...  0.1948170631050768   \n",
       "1  -1.6213172961464173-1.9433709528793672.3583622...  1.6213172961464173   \n",
       "2  2.07794324174808-2.068665026142649-3.137636860...    2.07794324174808   \n",
       "3  -2.5120688673206115-1.5785220475832330.9011707...  2.5120688673206115   \n",
       "4  -3.7510662331035918-4.408446845188338-0.589796...  3.7510662331035918   \n",
       "\n",
       "                                           UV6(imag)  \\\n",
       "0  0.691155369173090.029564792326333960.326568174...   \n",
       "1                1.9433709528793672.3583622695584063   \n",
       "2                                  2.068665026142649   \n",
       "3  1.5785220475832330.90117070547782532.622438914...   \n",
       "4                                  4.408446845188338   \n",
       "\n",
       "                                                 WCT           WCT(real)  \\\n",
       "0  -0.3170091969449017-0.79643426352645690.029001...  0.3170091969449017   \n",
       "1  -1.6199081552135859-1.95860245521781782.350756...  1.6199081552135859   \n",
       "2  2.079353564052934-2.066404747247788-3.13677549...   2.079353564052934   \n",
       "3  -2.4898222728410393-1.5790911468605870.8718894...  2.4898222728410393   \n",
       "4  -3.755577984302147-4.4081562920303305-0.587553...   3.755577984302147   \n",
       "\n",
       "                                           WCT(imag)  \n",
       "0  0.79643426352645690.029001522584057150.3786583...  \n",
       "1                1.95860245521781782.350756594406426  \n",
       "2                                  2.066404747247788  \n",
       "3  1.5790911468605870.87188944253631942.624114529...  \n",
       "4                                 4.4081562920303305  \n",
       "\n",
       "[5 rows x 115 columns]"
      ]
     },
     "execution_count": 62,
     "metadata": {},
     "output_type": "execute_result"
    }
   ],
   "source": [
    "df.head()"
   ]
  },
  {
   "cell_type": "code",
   "execution_count": 5,
   "metadata": {},
   "outputs": [],
   "source": [
    "features = ['I-raw(real)','I-raw(imag)','II-raw(real)','II-raw(imag)','III-raw(real)','III-raw(imag)','V1-Raw(real)',\n",
    "            'V1-Raw(imag)','V2-Raw(real)','V2-Raw(imag)','V3-Raw(real)','V3-Raw(imag)','V4-Raw(real)','V4-Raw(imag)',\n",
    "            'V5-Raw(real)','V5-Raw(imag)','V6-Raw(real)','V6-Raw(imag)','LA-Raw(real)','LA-Raw(imag)','RA-Raw(real)',\n",
    "            'RA-Raw(imag)','LL-Raw(real)','LL-Raw(imag)','UV1-Raw(real)','UV1-Raw(imag)','UV2-Raw(real)','UV2-Raw(imag)',\n",
    "            'UV3-Raw(real)','UV3-Raw(imag)','UV4-Raw(real)','UV4-Raw(imag)','UV5-Raw(real)','UV5-Raw(imag)',\n",
    "            'UV6-Raw(real)','UV6-Raw(imag)','I(real)','I(imag)','II(real)','II(imag)','III(real)','III(imag)','V1(real)',\n",
    "            'V1(imag)','V2(real)','V2(imag)','V3(real)','V3(imag)','V4(real)','V4(imag)','V5(real)','V5(imag)',\n",
    "            'V6(real)','V6(imag)','LA(real)','LA(imag)','RA(real)','RA(imag)','LL(real)','LL(imag)','UV1(real)',\n",
    "            'UV1(imag)','UV2(real)','UV2(imag)','UV3(real)','UV3(imag)','UV4(real)','UV4(imag)','UV5(real)',\n",
    "            'UV5(imag)','UV6(real)','UV6(imag)','WCT(real)','WCT(imag)']"
   ]
  },
  {
   "cell_type": "code",
   "execution_count": 6,
   "metadata": {
    "scrolled": false
   },
   "outputs": [],
   "source": [
    "temp = pd.DataFrame(df[features])"
   ]
  },
  {
   "cell_type": "code",
   "execution_count": 70,
   "metadata": {},
   "outputs": [],
   "source": [
    "def modify_data(data):\n",
    "    y = data\n",
    "    result=[]\n",
    "    for x in y:\n",
    "        if len(x)>=5:\n",
    "            new = x.split('.')\n",
    "            i = new[0]+'.'+new[1]\n",
    "            j = float(i)\n",
    "            result.append(j)\n",
    "    return result"
   ]
  },
  {
   "cell_type": "code",
   "execution_count": 8,
   "metadata": {
    "scrolled": true
   },
   "outputs": [
    {
     "data": {
      "text/html": [
       "<div>\n",
       "<style scoped>\n",
       "    .dataframe tbody tr th:only-of-type {\n",
       "        vertical-align: middle;\n",
       "    }\n",
       "\n",
       "    .dataframe tbody tr th {\n",
       "        vertical-align: top;\n",
       "    }\n",
       "\n",
       "    .dataframe thead th {\n",
       "        text-align: right;\n",
       "    }\n",
       "</style>\n",
       "<table border=\"1\" class=\"dataframe\">\n",
       "  <thead>\n",
       "    <tr style=\"text-align: right;\">\n",
       "      <th></th>\n",
       "      <th>I-raw(real)</th>\n",
       "      <th>I-raw(imag)</th>\n",
       "      <th>II-raw(real)</th>\n",
       "      <th>II-raw(imag)</th>\n",
       "      <th>III-raw(real)</th>\n",
       "      <th>III-raw(imag)</th>\n",
       "      <th>V1-Raw(real)</th>\n",
       "      <th>V1-Raw(imag)</th>\n",
       "      <th>V2-Raw(real)</th>\n",
       "      <th>V2-Raw(imag)</th>\n",
       "      <th>...</th>\n",
       "      <th>UV3(real)</th>\n",
       "      <th>UV3(imag)</th>\n",
       "      <th>UV4(real)</th>\n",
       "      <th>UV4(imag)</th>\n",
       "      <th>UV5(real)</th>\n",
       "      <th>UV5(imag)</th>\n",
       "      <th>UV6(real)</th>\n",
       "      <th>UV6(imag)</th>\n",
       "      <th>WCT(real)</th>\n",
       "      <th>WCT(imag)</th>\n",
       "    </tr>\n",
       "  </thead>\n",
       "  <tbody>\n",
       "    <tr>\n",
       "      <th>0</th>\n",
       "      <td>0.1832743937389645</td>\n",
       "      <td>0.38316677887422790.0157715527837506420.173699...</td>\n",
       "      <td>0.08839254698785978</td>\n",
       "      <td>0.46058494392519740.018574163208737690.2102984...</td>\n",
       "      <td>0.04307790481132811</td>\n",
       "      <td>0.56615814175711080.0233688251612890650.264073...</td>\n",
       "      <td>0.18382667456987897</td>\n",
       "      <td>0.6832745760253460.0270232093428898240.3226264...</td>\n",
       "      <td>0.30347831658749735</td>\n",
       "      <td>0.79278817043113140.023080321146952160.3783720...</td>\n",
       "      <td>...</td>\n",
       "      <td>0.17314004049168413</td>\n",
       "      <td>0.39188143187785340.0171728579962441670.181021...</td>\n",
       "      <td>0.07883808861303958</td>\n",
       "      <td>0.470722063741797370.024206860631505780.216772...</td>\n",
       "      <td>0.054040679304980195</td>\n",
       "      <td>0.57966340138374240.0219537816623985440.267167...</td>\n",
       "      <td>0.1948170631050768</td>\n",
       "      <td>0.691155369173090.029564792326333960.326568174...</td>\n",
       "      <td>0.3170091969449017</td>\n",
       "      <td>0.79643426352645690.029001522584057150.3786583...</td>\n",
       "    </tr>\n",
       "    <tr>\n",
       "      <th>1</th>\n",
       "      <td>1.627792634242524</td>\n",
       "      <td>1.88706324161069162.382563390852816</td>\n",
       "      <td>1.6286314086073046</td>\n",
       "      <td>1.91241947436653842.3755332803069313</td>\n",
       "      <td>1.6325904236090694</td>\n",
       "      <td>1.9340899499967542.3752454980038835</td>\n",
       "      <td>1.636247479839513</td>\n",
       "      <td>1.95718144042239372.365954240791194</td>\n",
       "      <td>1.6348383389066816</td>\n",
       "      <td>1.97041464070477962.362857155053631</td>\n",
       "      <td>...</td>\n",
       "      <td>1.6052799302918113</td>\n",
       "      <td>1.8760947836585132.370462830205611</td>\n",
       "      <td>1.6072258868181024</td>\n",
       "      <td>1.89017171147568172.3721484122663203</td>\n",
       "      <td>1.6131644093207493</td>\n",
       "      <td>1.91637167176631132.3684894658418543</td>\n",
       "      <td>1.6213172961464173</td>\n",
       "      <td>1.9433709528793672.3583622695584063</td>\n",
       "      <td>1.6199081552135859</td>\n",
       "      <td>1.95860245521781782.350756594406426</td>\n",
       "    </tr>\n",
       "    <tr>\n",
       "      <th>2</th>\n",
       "      <td>2.0833024665065247</td>\n",
       "      <td>2.0911828422004763</td>\n",
       "      <td>2.081892144201671</td>\n",
       "      <td>2.096825042148551</td>\n",
       "      <td>2.0740199815182137</td>\n",
       "      <td>2.1106076450337565</td>\n",
       "      <td>2.0711993369085056</td>\n",
       "      <td>2.1100468239545807</td>\n",
       "      <td>2.0824562731236127</td>\n",
       "      <td>2.1058321685716814</td>\n",
       "      <td>...</td>\n",
       "      <td>2.0833024665065247</td>\n",
       "      <td>2.061629270785713</td>\n",
       "      <td>2.0799176929748753</td>\n",
       "      <td>2.074290231512567</td>\n",
       "      <td>2.0813280152797295</td>\n",
       "      <td>2.070347489380177</td>\n",
       "      <td>2.07794324174808</td>\n",
       "      <td>2.068665026142649</td>\n",
       "      <td>2.079353564052934</td>\n",
       "      <td>2.066404747247788</td>\n",
       "    </tr>\n",
       "    <tr>\n",
       "      <th>3</th>\n",
       "      <td>2.436623894737715</td>\n",
       "      <td>1.62188741251763210.80939286942137072.52163388...</td>\n",
       "      <td>2.451270720916812</td>\n",
       "      <td>1.59400154792727040.84233429023056482.57371201...</td>\n",
       "      <td>2.4760321478158143</td>\n",
       "      <td>1.55571254854687150.90398429621965372.63198992...</td>\n",
       "      <td>2.4957362743548637</td>\n",
       "      <td>1.53488351499570340.93551892165793362.66466442...</td>\n",
       "      <td>2.494050507568213</td>\n",
       "      <td>1.51068541372259760.94790619063191252.67816988...</td>\n",
       "      <td>...</td>\n",
       "      <td>2.5540195883392327</td>\n",
       "      <td>1.63229054730766920.92397821980981462.55571590...</td>\n",
       "      <td>2.584142306330206</td>\n",
       "      <td>1.63144828037718480.93607914990298792.58976441...</td>\n",
       "      <td>2.5540195883392327</td>\n",
       "      <td>1.60668107982672480.91806469944535232.61453000...</td>\n",
       "      <td>2.5120688673206115</td>\n",
       "      <td>1.5785220475832330.90117070547782532.622438914...</td>\n",
       "      <td>2.4898222728410393</td>\n",
       "      <td>1.5790911468605870.87188944253631942.624114529...</td>\n",
       "    </tr>\n",
       "    <tr>\n",
       "      <th>4</th>\n",
       "      <td>3.761482251302726</td>\n",
       "      <td>4.388166234759397</td>\n",
       "      <td>3.7668295119824955</td>\n",
       "      <td>4.395488174341192</td>\n",
       "      <td>3.7589571559817236</td>\n",
       "      <td>4.397173382657638</td>\n",
       "      <td>3.7648614229823028</td>\n",
       "      <td>4.401124905606543</td>\n",
       "      <td>3.7651399261427074</td>\n",
       "      <td>4.405347611502922</td>\n",
       "      <td>...</td>\n",
       "      <td>3.7521988126225705</td>\n",
       "      <td>4.398025671921126</td>\n",
       "      <td>3.7536098953019543</td>\n",
       "      <td>4.409008581293819</td>\n",
       "      <td>3.7459974755842267</td>\n",
       "      <td>4.396049910446674</td>\n",
       "      <td>3.7510662331035918</td>\n",
       "      <td>4.408446845188338</td>\n",
       "      <td>3.755577984302147</td>\n",
       "      <td>4.4081562920303305</td>\n",
       "    </tr>\n",
       "  </tbody>\n",
       "</table>\n",
       "<p>5 rows × 74 columns</p>\n",
       "</div>"
      ],
      "text/plain": [
       "          I-raw(real)                                        I-raw(imag)  \\\n",
       "0  0.1832743937389645  0.38316677887422790.0157715527837506420.173699...   \n",
       "1   1.627792634242524                1.88706324161069162.382563390852816   \n",
       "2  2.0833024665065247                                 2.0911828422004763   \n",
       "3   2.436623894737715  1.62188741251763210.80939286942137072.52163388...   \n",
       "4   3.761482251302726                                  4.388166234759397   \n",
       "\n",
       "          II-raw(real)                                       II-raw(imag)  \\\n",
       "0  0.08839254698785978  0.46058494392519740.018574163208737690.2102984...   \n",
       "1   1.6286314086073046               1.91241947436653842.3755332803069313   \n",
       "2    2.081892144201671                                  2.096825042148551   \n",
       "3    2.451270720916812  1.59400154792727040.84233429023056482.57371201...   \n",
       "4   3.7668295119824955                                  4.395488174341192   \n",
       "\n",
       "         III-raw(real)                                      III-raw(imag)  \\\n",
       "0  0.04307790481132811  0.56615814175711080.0233688251612890650.264073...   \n",
       "1   1.6325904236090694                1.9340899499967542.3752454980038835   \n",
       "2   2.0740199815182137                                 2.1106076450337565   \n",
       "3   2.4760321478158143  1.55571254854687150.90398429621965372.63198992...   \n",
       "4   3.7589571559817236                                  4.397173382657638   \n",
       "\n",
       "          V1-Raw(real)                                       V1-Raw(imag)  \\\n",
       "0  0.18382667456987897  0.6832745760253460.0270232093428898240.3226264...   \n",
       "1    1.636247479839513                1.95718144042239372.365954240791194   \n",
       "2   2.0711993369085056                                 2.1100468239545807   \n",
       "3   2.4957362743548637  1.53488351499570340.93551892165793362.66466442...   \n",
       "4   3.7648614229823028                                  4.401124905606543   \n",
       "\n",
       "          V2-Raw(real)                                       V2-Raw(imag)  \\\n",
       "0  0.30347831658749735  0.79278817043113140.023080321146952160.3783720...   \n",
       "1   1.6348383389066816                1.97041464070477962.362857155053631   \n",
       "2   2.0824562731236127                                 2.1058321685716814   \n",
       "3    2.494050507568213  1.51068541372259760.94790619063191252.67816988...   \n",
       "4   3.7651399261427074                                  4.405347611502922   \n",
       "\n",
       "   ...            UV3(real)  \\\n",
       "0  ...  0.17314004049168413   \n",
       "1  ...   1.6052799302918113   \n",
       "2  ...   2.0833024665065247   \n",
       "3  ...   2.5540195883392327   \n",
       "4  ...   3.7521988126225705   \n",
       "\n",
       "                                           UV3(imag)            UV4(real)  \\\n",
       "0  0.39188143187785340.0171728579962441670.181021...  0.07883808861303958   \n",
       "1                 1.8760947836585132.370462830205611   1.6072258868181024   \n",
       "2                                  2.061629270785713   2.0799176929748753   \n",
       "3  1.63229054730766920.92397821980981462.55571590...    2.584142306330206   \n",
       "4                                  4.398025671921126   3.7536098953019543   \n",
       "\n",
       "                                           UV4(imag)             UV5(real)  \\\n",
       "0  0.470722063741797370.024206860631505780.216772...  0.054040679304980195   \n",
       "1               1.89017171147568172.3721484122663203    1.6131644093207493   \n",
       "2                                  2.074290231512567    2.0813280152797295   \n",
       "3  1.63144828037718480.93607914990298792.58976441...    2.5540195883392327   \n",
       "4                                  4.409008581293819    3.7459974755842267   \n",
       "\n",
       "                                           UV5(imag)           UV6(real)  \\\n",
       "0  0.57966340138374240.0219537816623985440.267167...  0.1948170631050768   \n",
       "1               1.91637167176631132.3684894658418543  1.6213172961464173   \n",
       "2                                  2.070347489380177    2.07794324174808   \n",
       "3  1.60668107982672480.91806469944535232.61453000...  2.5120688673206115   \n",
       "4                                  4.396049910446674  3.7510662331035918   \n",
       "\n",
       "                                           UV6(imag)           WCT(real)  \\\n",
       "0  0.691155369173090.029564792326333960.326568174...  0.3170091969449017   \n",
       "1                1.9433709528793672.3583622695584063  1.6199081552135859   \n",
       "2                                  2.068665026142649   2.079353564052934   \n",
       "3  1.5785220475832330.90117070547782532.622438914...  2.4898222728410393   \n",
       "4                                  4.408446845188338   3.755577984302147   \n",
       "\n",
       "                                           WCT(imag)  \n",
       "0  0.79643426352645690.029001522584057150.3786583...  \n",
       "1                1.95860245521781782.350756594406426  \n",
       "2                                  2.066404747247788  \n",
       "3  1.5790911468605870.87188944253631942.624114529...  \n",
       "4                                 4.4081562920303305  \n",
       "\n",
       "[5 rows x 74 columns]"
      ]
     },
     "execution_count": 8,
     "metadata": {},
     "output_type": "execute_result"
    }
   ],
   "source": [
    "temp.head()"
   ]
  },
  {
   "cell_type": "code",
   "execution_count": 9,
   "metadata": {},
   "outputs": [
    {
     "data": {
      "text/plain": [
       "(92, 74)"
      ]
     },
     "execution_count": 9,
     "metadata": {},
     "output_type": "execute_result"
    }
   ],
   "source": [
    "new_df = temp.apply(modify_data)\n",
    "new_df.shape"
   ]
  },
  {
   "cell_type": "code",
   "execution_count": 10,
   "metadata": {},
   "outputs": [
    {
     "data": {
      "text/plain": [
       "(92, 2)"
      ]
     },
     "execution_count": 10,
     "metadata": {},
     "output_type": "execute_result"
    }
   ],
   "source": [
    "tsne = TSNE(n_components=2, perplexity=PERPLEXITY, n_iter=ITERATION_N, random_state=RANDOM_STATE)\n",
    "points = tsne.fit_transform(new_df)\n",
    "x_point = points[:,0]\n",
    "y_point = points[:,1]\n",
    "points.shape"
   ]
  },
  {
   "cell_type": "code",
   "execution_count": 11,
   "metadata": {},
   "outputs": [
    {
     "data": {
      "image/png": "[encoded data removed]",
      "text/plain": [
       "<Figure size 432x288 with 1 Axes>"
      ]
     },
     "metadata": {
      "needs_background": "light"
     },
     "output_type": "display_data"
    }
   ],
   "source": [
    "plt.scatter(x_point,y_point)\n",
    "plt.xlabel(\"1st eigen vector\")\n",
    "plt.ylabel(\"2nd eigen vector\")\n",
    "plt.title(f\"t-SNE with perplexity {PERPLEXITY} & {ITERATION_N} iteration.\")\n",
    "plt.show()"
   ]
  },
  {
   "cell_type": "code",
   "execution_count": 104,
   "metadata": {},
   "outputs": [
    {
     "data": {
      "text/html": [
       "        <script type=\"text/javascript\">\n",
       "        window.PlotlyConfig = {MathJaxConfig: 'local'};\n",
       "        if (window.MathJax) {MathJax.Hub.Config({SVG: {font: \"STIX-Web\"}});}\n",
       "        if (typeof require !== 'undefined') {\n",
       "        require.undef(\"plotly\");\n",
       "        requirejs.config({\n",
       "            paths: {\n",
       "                'plotly': ['https://cdn.plot.ly/plotly-latest.min']\n",
       "            }\n",
       "        });\n",
       "        require(['plotly'], function(Plotly) {\n",
       "            window._Plotly = Plotly;\n",
       "        });\n",
       "        }\n",
       "        </script>\n",
       "        "
      ]
     },
     "metadata": {},
     "output_type": "display_data"
    }
   ],
   "source": [
    "import plotly as py\n",
    "import plotly.graph_objects as go\n",
    "import ipywidgets as widgets\n",
    "from ipywidgets import interact\n",
    "from plotly.offline import download_plotlyjs, init_notebook_mode, plot, iplot\n",
    "\n",
    "# Set-Up offline mode\n",
    "py.offline.init_notebook_mode(connected=True)"
   ]
  },
  {
   "cell_type": "code",
   "execution_count": 105,
   "metadata": {},
   "outputs": [
    {
     "data": {
      "application/vnd.jupyter.widget-view+json": {
       "model_id": "4ba425c159a74cdd9ea3ac7851ac13ea",
       "version_major": 2,
       "version_minor": 0
      },
      "text/plain": [
       "interactive(children=(IntSlider(value=25, description='Perplexity', max=50), IntSlider(value=300, description=…"
      ]
     },
     "metadata": {},
     "output_type": "display_data"
    },
    {
     "data": {
      "text/plain": [
       "<function __main__.f(Perplexity, Iteration)>"
      ]
     },
     "execution_count": 105,
     "metadata": {},
     "output_type": "execute_result"
    }
   ],
   "source": [
    "def f(Perplexity,Iteration):\n",
    "    tsne = TSNE(n_components=2, perplexity=Perplexity, n_iter=Iteration, random_state=RANDOM_STATE)\n",
    "    points = tsne.fit_transform(new_df)\n",
    "    x_point = points[:,0]\n",
    "    y_point = points[:,1]\n",
    "    trace = go.Scatter(\n",
    "        x = x_point,\n",
    "        y = y_point,\n",
    "        mode = 'markers')\n",
    "    data = [trace]\n",
    "    iplot(data)\n",
    "interact(f,Perplexity=(0,50),Iteration=(100,500))\n"
   ]
  },
  {
   "cell_type": "markdown",
   "metadata": {},
   "source": [
    "## K-Means clustering"
   ]
  },
  {
   "cell_type": "markdown",
   "metadata": {},
   "source": [
    "### Import Dataset "
   ]
  },
  {
   "cell_type": "code",
   "execution_count": 14,
   "metadata": {},
   "outputs": [],
   "source": [
    "dataset = new_df\n",
    "X = dataset.iloc[:,[-1,-2]].values"
   ]
  },
  {
   "cell_type": "markdown",
   "metadata": {},
   "source": [
    "### Using the elbow method to find optimal number of clusters"
   ]
  },
  {
   "cell_type": "code",
   "execution_count": 15,
   "metadata": {
    "scrolled": true
   },
   "outputs": [
    {
     "data": {
      "image/png": "[encoded data removed]",
      "text/plain": [
       "<Figure size 432x288 with 1 Axes>"
      ]
     },
     "metadata": {
      "needs_background": "light"
     },
     "output_type": "display_data"
    }
   ],
   "source": [
    "from sklearn.cluster import KMeans\n",
    "ks = range(1, 11)\n",
    "inertias = []\n",
    "for k in ks:\n",
    "    # Create a KMeans instance with k clusters: model\n",
    "    model = KMeans(n_clusters=k, init= 'k-means++', random_state = 42)\n",
    "    \n",
    "    # Fit model to samples\n",
    "    model.fit(new_df.iloc[:,:3])\n",
    "    \n",
    "    # Append the inertia to the list of inertias\n",
    "    inertias.append(model.inertia_)\n",
    "    \n",
    "plt.plot(ks, inertias, '-o')\n",
    "plt.xlabel('number of clusters, k')\n",
    "plt.ylabel('WCSS')\n",
    "plt.xticks(ks)\n",
    "plt.show()"
   ]
  },
  {
   "cell_type": "markdown",
   "metadata": {},
   "source": [
    "### Training K-Means Model "
   ]
  },
  {
   "cell_type": "code",
   "execution_count": 137,
   "metadata": {},
   "outputs": [
    {
     "data": {
      "text/plain": [
       "array([0, 0, 0, 0, 1, 1, 0, 0, 0, 0, 1, 1, 0, 1, 1, 0, 0, 0, 1, 0, 1, 1,\n",
       "       1, 0, 0, 1, 1, 0, 1, 1, 0, 1, 0, 0, 1, 1, 0, 0, 0, 0, 0, 0, 1, 0,\n",
       "       0, 0, 0, 0, 1, 1, 0, 1, 0, 0, 0, 1, 0, 0, 1, 0, 0, 0, 0, 0, 0, 0,\n",
       "       0, 0, 0, 0, 0, 0, 0, 0, 1, 0, 0, 0, 0, 1, 0, 0, 0, 0, 0, 0, 0, 0,\n",
       "       0, 0, 0, 0])"
      ]
     },
     "execution_count": 137,
     "metadata": {},
     "output_type": "execute_result"
    }
   ],
   "source": [
    "kmeans = KMeans(n_clusters=2, init= 'k-means++', random_state = 42)\n",
    "y_kmeans = kmeans.fit_predict(X)\n",
    "y_kmeans"
   ]
  },
  {
   "cell_type": "markdown",
   "metadata": {},
   "source": [
    "### Visualization of K-Means clusters with their respective Centroids "
   ]
  },
  {
   "cell_type": "code",
   "execution_count": 138,
   "metadata": {
    "scrolled": true
   },
   "outputs": [
    {
     "data": {
      "image/png": "[encoded data removed]",
      "text/plain": [
       "<Figure size 432x288 with 1 Axes>"
      ]
     },
     "metadata": {
      "needs_background": "light"
     },
     "output_type": "display_data"
    }
   ],
   "source": [
    "plt.scatter(X[y_kmeans==0,0],X[y_kmeans==0,1], s = 100, c = 'red', label = 'Unstable')\n",
    "plt.scatter(X[y_kmeans==1,0],X[y_kmeans==1,1], s = 100, c = 'blue', label = 'stable')\n",
    "plt.scatter(X[y_kmeans==2,0],X[y_kmeans==2,1], s = 100, c = 'green', label = 'stable')\n",
    "plt.scatter(kmeans.cluster_centers_[:, 0], kmeans.cluster_centers_[:, 1], s = 300, c = 'yellow', label = 'Centroids')\n",
    "plt.title('Clusters of Patients')\n",
    "plt.xlabel('WCT-real')\n",
    "plt.ylabel('WCT-imag')\n",
    "plt.legend()\n",
    "plt.show()"
   ]
  },
  {
   "cell_type": "markdown",
   "metadata": {},
   "source": [
    "### DBSCAN clustering algorithm implimentaion on WCT "
   ]
  },
  {
   "cell_type": "code",
   "execution_count": 18,
   "metadata": {},
   "outputs": [],
   "source": [
    "from sklearn.cluster import DBSCAN\n",
    "from sklearn import metrics\n",
    "from collections import Counter"
   ]
  },
  {
   "cell_type": "code",
   "execution_count": 19,
   "metadata": {},
   "outputs": [],
   "source": [
    "dataset = new_df\n",
    "X = dataset.iloc[:,[-1,-2]].values"
   ]
  },
  {
   "cell_type": "code",
   "execution_count": 120,
   "metadata": {},
   "outputs": [],
   "source": [
    "db =DBSCAN(eps=0.5, min_samples=8) # epsilon is chosen less as our data is more scattered\n",
    "model = db.fit(X)"
   ]
  },
  {
   "cell_type": "code",
   "execution_count": 142,
   "metadata": {},
   "outputs": [
    {
     "data": {
      "text/plain": [
       "array([ 0, -1, -1, -1, -1, -1,  0, -1,  1,  0, -1, -1, -1, -1, -1, -1, -1,\n",
       "        1, -1, -1, -1, -1, -1, -1, -1, -1, -1,  0, -1, -1, -1, -1, -1, -1,\n",
       "       -1, -1, -1, -1, -1, -1, -1,  0, -1,  1,  0,  1, -1, -1, -1, -1, -1,\n",
       "       -1, -1,  1, -1, -1,  0,  0, -1, -1,  1,  1,  1,  0,  0, -1,  1,  0,\n",
       "        0, -1,  0,  0, -1, -1, -1,  0,  0,  0,  0, -1,  1,  0,  0,  1,  0,\n",
       "       -1,  1,  0,  0,  0,  0,  1], dtype=int64)"
      ]
     },
     "execution_count": 142,
     "metadata": {},
     "output_type": "execute_result"
    }
   ],
   "source": [
    "labels = db.labels_\n",
    "labels"
   ]
  },
  {
   "cell_type": "code",
   "execution_count": 122,
   "metadata": {},
   "outputs": [],
   "source": [
    "outlier_df = pd.DataFrame(X)"
   ]
  },
  {
   "cell_type": "code",
   "execution_count": 123,
   "metadata": {},
   "outputs": [
    {
     "name": "stdout",
     "output_type": "stream",
     "text": [
      "Counter({-1: 54, 0: 25, 1: 13})\n",
      "           0         1\n",
      "1   1.958602  1.619908\n",
      "2   2.066405  2.079354\n",
      "3   1.579091  2.489822\n",
      "4   4.408156  3.755578\n",
      "5   3.398879  1.810222\n",
      "7   3.055987  0.725776\n",
      "10  6.017072  2.183817\n",
      "11  3.542453  3.175056\n",
      "12  1.220432  2.654808\n",
      "13  8.501265  2.552625\n",
      "14  4.901665  2.238713\n",
      "15  2.995741  2.186054\n",
      "16  2.219282  2.417185\n",
      "18  3.838923  1.975461\n",
      "19  0.839243  3.108911\n",
      "20  3.941943  3.320325\n",
      "21  2.794718  5.086363\n",
      "22  9.173582  0.183841\n",
      "23  2.833860  1.700147\n",
      "24  1.876945  0.713100\n",
      "25  6.556201  3.966728\n",
      "26  5.828478  2.481384\n",
      "28  4.823984  0.121900\n",
      "29  3.684920  0.122768\n",
      "30  1.111188  4.211098\n",
      "31  4.108337  1.035184\n",
      "32  0.115713  5.582973\n",
      "33  1.418340  1.952106\n",
      "34  4.235022  3.296683\n",
      "35  3.230800  2.840329\n",
      "36  1.054593  2.535150\n",
      "37  1.333600  1.895800\n",
      "38  2.477443  1.927329\n",
      "39  1.627517  3.345402\n",
      "40  2.267138  3.811316\n",
      "42  3.513745  3.021920\n",
      "46  2.922545  1.376967\n",
      "47  1.318397  2.158194\n",
      "48  8.001559  2.653407\n",
      "49  5.813547  4.813282\n",
      "50  2.818939  0.564747\n",
      "51  4.425611  6.342802\n",
      "52  0.589805  4.188281\n",
      "54  1.362845  1.533203\n",
      "55  6.267093  0.640749\n",
      "58  8.317090  0.597112\n",
      "59  2.635378  2.370736\n",
      "65  0.829941  2.467017\n",
      "69  1.835546  2.552308\n",
      "72  2.001371  1.336972\n",
      "73  2.130886  5.956008\n",
      "74  7.194954  1.469288\n",
      "79  4.621849  0.463103\n",
      "85  1.869616  0.192283\n"
     ]
    }
   ],
   "source": [
    "print(Counter(db.labels_))\n",
    "\n",
    "print(outlier_df[db.labels_==-1])"
   ]
  },
  {
   "cell_type": "code",
   "execution_count": null,
   "metadata": {},
   "outputs": [],
   "source": [
    "sns.scatterplot(x=X[:,0], y=X[:,1], hue=y2, data=results, legend='full')"
   ]
  },
  {
   "cell_type": "code",
   "execution_count": 155,
   "metadata": {},
   "outputs": [
    {
     "data": {
      "image/png": "[encoded data removed]",
      "text/plain": [
       "<Figure size 432x288 with 1 Axes>"
      ]
     },
     "metadata": {
      "needs_background": "light"
     },
     "output_type": "display_data"
    }
   ],
   "source": [
    "color = db.labels_\n",
    "plt.scatter(X[:,0],X[:,1], c = color, s =120)\n",
    "plt.xlabel('WCT-real')\n",
    "plt.ylabel('WCT-imag')\n",
    "plt.title('DBScan plot for WCT')\n",
    "# plt.legend()\n",
    "plt.show()"
   ]
  },
  {
   "cell_type": "code",
   "execution_count": 66,
   "metadata": {},
   "outputs": [],
   "source": [
    "features1 = ['Patient ID','I-raw(real)','I-raw(imag)','II-raw(real)','II-raw(imag)','III-raw(real)','III-raw(imag)','V1-Raw(real)',\n",
    "            'V1-Raw(imag)','V2-Raw(real)','V2-Raw(imag)','V3-Raw(real)','V3-Raw(imag)','V4-Raw(real)','V4-Raw(imag)',\n",
    "            'V5-Raw(real)','V5-Raw(imag)','V6-Raw(real)','V6-Raw(imag)','LA-Raw(real)','LA-Raw(imag)','RA-Raw(real)',\n",
    "            'RA-Raw(imag)','LL-Raw(real)','LL-Raw(imag)','UV1-Raw(real)','UV1-Raw(imag)','UV2-Raw(real)','UV2-Raw(imag)',\n",
    "            'UV3-Raw(real)','UV3-Raw(imag)','UV4-Raw(real)','UV4-Raw(imag)','UV5-Raw(real)','UV5-Raw(imag)',\n",
    "            'UV6-Raw(real)','UV6-Raw(imag)','I(real)','I(imag)','II(real)','II(imag)','III(real)','III(imag)','V1(real)',\n",
    "            'V1(imag)','V2(real)','V2(imag)','V3(real)','V3(imag)','V4(real)','V4(imag)','V5(real)','V5(imag)',\n",
    "            'V6(real)','V6(imag)','LA(real)','LA(imag)','RA(real)','RA(imag)','LL(real)','LL(imag)','UV1(real)',\n",
    "            'UV1(imag)','UV2(real)','UV2(imag)','UV3(real)','UV3(imag)','UV4(real)','UV4(imag)','UV5(real)',\n",
    "            'UV5(imag)','UV6(real)','UV6(imag)','WCT(real)','WCT(imag)']"
   ]
  },
  {
   "cell_type": "code",
   "execution_count": 67,
   "metadata": {},
   "outputs": [
    {
     "data": {
      "text/html": [
       "<div>\n",
       "<style scoped>\n",
       "    .dataframe tbody tr th:only-of-type {\n",
       "        vertical-align: middle;\n",
       "    }\n",
       "\n",
       "    .dataframe tbody tr th {\n",
       "        vertical-align: top;\n",
       "    }\n",
       "\n",
       "    .dataframe thead th {\n",
       "        text-align: right;\n",
       "    }\n",
       "</style>\n",
       "<table border=\"1\" class=\"dataframe\">\n",
       "  <thead>\n",
       "    <tr style=\"text-align: right;\">\n",
       "      <th></th>\n",
       "      <th>Patient ID</th>\n",
       "      <th>Comments of Patients</th>\n",
       "      <th>Unnamed: 2</th>\n",
       "      <th>Unnamed: 3</th>\n",
       "      <th>I-Raw</th>\n",
       "      <th>I-raw(real)</th>\n",
       "      <th>I-raw(imag)</th>\n",
       "      <th>II-Raw</th>\n",
       "      <th>II-raw(real)</th>\n",
       "      <th>II-raw(imag)</th>\n",
       "      <th>...</th>\n",
       "      <th>UV4(imag)</th>\n",
       "      <th>UV5</th>\n",
       "      <th>UV5(real)</th>\n",
       "      <th>UV5(imag)</th>\n",
       "      <th>UV6</th>\n",
       "      <th>UV6(real)</th>\n",
       "      <th>UV6(imag)</th>\n",
       "      <th>WCT</th>\n",
       "      <th>WCT(real)</th>\n",
       "      <th>WCT(imag)</th>\n",
       "    </tr>\n",
       "  </thead>\n",
       "  <tbody>\n",
       "    <tr>\n",
       "      <th>0</th>\n",
       "      <td>patient001</td>\n",
       "      <td>Age: 46</td>\n",
       "      <td>Sex: M</td>\n",
       "      <td>Diagnosis report: Non ST segment elevation myo...</td>\n",
       "      <td>0.1832743937389645-0.38316677887422790.0157715...</td>\n",
       "      <td>0.1832743937389645</td>\n",
       "      <td>0.38316677887422790.0157715527837506420.173699...</td>\n",
       "      <td>0.08839254698785978-0.46058494392519740.018574...</td>\n",
       "      <td>0.08839254698785978</td>\n",
       "      <td>0.46058494392519740.018574163208737690.2102984...</td>\n",
       "      <td>...</td>\n",
       "      <td>0.470722063741797370.024206860631505780.216772...</td>\n",
       "      <td>-0.054040679304980195-0.57966340138374240.0219...</td>\n",
       "      <td>0.054040679304980195</td>\n",
       "      <td>0.57966340138374240.0219537816623985440.267167...</td>\n",
       "      <td>-0.1948170631050768-0.691155369173090.02956479...</td>\n",
       "      <td>0.1948170631050768</td>\n",
       "      <td>0.691155369173090.029564792326333960.326568174...</td>\n",
       "      <td>-0.3170091969449017-0.79643426352645690.029001...</td>\n",
       "      <td>0.3170091969449017</td>\n",
       "      <td>0.79643426352645690.029001522584057150.3786583...</td>\n",
       "    </tr>\n",
       "    <tr>\n",
       "      <th>1</th>\n",
       "      <td>patient002</td>\n",
       "      <td>Age: 74</td>\n",
       "      <td>Sex: F</td>\n",
       "      <td>Diagnosis report: Coronary artery disease</td>\n",
       "      <td>-1.627792634242524-1.88706324161069162.3825633...</td>\n",
       "      <td>1.627792634242524</td>\n",
       "      <td>1.88706324161069162.382563390852816</td>\n",
       "      <td>-1.6286314086073046-1.91241947436653842.375533...</td>\n",
       "      <td>1.6286314086073046</td>\n",
       "      <td>1.91241947436653842.3755332803069313</td>\n",
       "      <td>...</td>\n",
       "      <td>1.89017171147568172.3721484122663203</td>\n",
       "      <td>-1.6131644093207493-1.91637167176631132.368489...</td>\n",
       "      <td>1.6131644093207493</td>\n",
       "      <td>1.91637167176631132.3684894658418543</td>\n",
       "      <td>-1.6213172961464173-1.9433709528793672.3583622...</td>\n",
       "      <td>1.6213172961464173</td>\n",
       "      <td>1.9433709528793672.3583622695584063</td>\n",
       "      <td>-1.6199081552135859-1.95860245521781782.350756...</td>\n",
       "      <td>1.6199081552135859</td>\n",
       "      <td>1.95860245521781782.350756594406426</td>\n",
       "    </tr>\n",
       "    <tr>\n",
       "      <th>2</th>\n",
       "      <td>patient003</td>\n",
       "      <td>Age: 55</td>\n",
       "      <td>Sex: M</td>\n",
       "      <td>Diagnosis report: Non ST segment elevation myo...</td>\n",
       "      <td>2.0833024665065247-2.0911828422004763-3.156475...</td>\n",
       "      <td>2.0833024665065247</td>\n",
       "      <td>2.0911828422004763</td>\n",
       "      <td>2.081892144201671-2.096825042148551-3.16831246...</td>\n",
       "      <td>2.081892144201671</td>\n",
       "      <td>2.096825042148551</td>\n",
       "      <td>...</td>\n",
       "      <td>2.074290231512567</td>\n",
       "      <td>2.0813280152797295-2.070347489380177-3.1404432...</td>\n",
       "      <td>2.0813280152797295</td>\n",
       "      <td>2.070347489380177</td>\n",
       "      <td>2.07794324174808-2.068665026142649-3.137636860...</td>\n",
       "      <td>2.07794324174808</td>\n",
       "      <td>2.068665026142649</td>\n",
       "      <td>2.079353564052934-2.066404747247788-3.13677549...</td>\n",
       "      <td>2.079353564052934</td>\n",
       "      <td>2.066404747247788</td>\n",
       "    </tr>\n",
       "    <tr>\n",
       "      <th>3</th>\n",
       "      <td>patient004</td>\n",
       "      <td>Age: 69</td>\n",
       "      <td>Sex: F</td>\n",
       "      <td>Diagnosis report: Atypical chest pain</td>\n",
       "      <td>-2.436623894737715-1.62188741251763210.8093928...</td>\n",
       "      <td>2.436623894737715</td>\n",
       "      <td>1.62188741251763210.80939286942137072.52163388...</td>\n",
       "      <td>-2.451270720916812-1.59400154792727040.8423342...</td>\n",
       "      <td>2.451270720916812</td>\n",
       "      <td>1.59400154792727040.84233429023056482.57371201...</td>\n",
       "      <td>...</td>\n",
       "      <td>1.63144828037718480.93607914990298792.58976441...</td>\n",
       "      <td>-2.5540195883392327-1.60668107982672480.918064...</td>\n",
       "      <td>2.5540195883392327</td>\n",
       "      <td>1.60668107982672480.91806469944535232.61453000...</td>\n",
       "      <td>-2.5120688673206115-1.5785220475832330.9011707...</td>\n",
       "      <td>2.5120688673206115</td>\n",
       "      <td>1.5785220475832330.90117070547782532.622438914...</td>\n",
       "      <td>-2.4898222728410393-1.5790911468605870.8718894...</td>\n",
       "      <td>2.4898222728410393</td>\n",
       "      <td>1.5790911468605870.87188944253631942.624114529...</td>\n",
       "    </tr>\n",
       "    <tr>\n",
       "      <th>4</th>\n",
       "      <td>patient005</td>\n",
       "      <td>Age: 87</td>\n",
       "      <td>Sex: M</td>\n",
       "      <td>Diagnosis report: Atrial fibrillation</td>\n",
       "      <td>-3.761482251302726-4.388166234759397-0.5582724...</td>\n",
       "      <td>3.761482251302726</td>\n",
       "      <td>4.388166234759397</td>\n",
       "      <td>-3.7668295119824955-4.395488174341192-0.559104...</td>\n",
       "      <td>3.7668295119824955</td>\n",
       "      <td>4.395488174341192</td>\n",
       "      <td>...</td>\n",
       "      <td>4.409008581293819</td>\n",
       "      <td>-3.7459974755842267-4.396049910446674-0.581074...</td>\n",
       "      <td>3.7459974755842267</td>\n",
       "      <td>4.396049910446674</td>\n",
       "      <td>-3.7510662331035918-4.408446845188338-0.589796...</td>\n",
       "      <td>3.7510662331035918</td>\n",
       "      <td>4.408446845188338</td>\n",
       "      <td>-3.755577984302147-4.4081562920303305-0.587553...</td>\n",
       "      <td>3.755577984302147</td>\n",
       "      <td>4.4081562920303305</td>\n",
       "    </tr>\n",
       "  </tbody>\n",
       "</table>\n",
       "<p>5 rows × 115 columns</p>\n",
       "</div>"
      ],
      "text/plain": [
       "   Patient ID Comments of Patients Unnamed: 2  \\\n",
       "0  patient001              Age: 46     Sex: M   \n",
       "1  patient002              Age: 74     Sex: F   \n",
       "2  patient003              Age: 55     Sex: M   \n",
       "3  patient004              Age: 69     Sex: F   \n",
       "4  patient005              Age: 87     Sex: M   \n",
       "\n",
       "                                          Unnamed: 3  \\\n",
       "0  Diagnosis report: Non ST segment elevation myo...   \n",
       "1          Diagnosis report: Coronary artery disease   \n",
       "2  Diagnosis report: Non ST segment elevation myo...   \n",
       "3              Diagnosis report: Atypical chest pain   \n",
       "4              Diagnosis report: Atrial fibrillation   \n",
       "\n",
       "                                               I-Raw         I-raw(real)  \\\n",
       "0  0.1832743937389645-0.38316677887422790.0157715...  0.1832743937389645   \n",
       "1  -1.627792634242524-1.88706324161069162.3825633...   1.627792634242524   \n",
       "2  2.0833024665065247-2.0911828422004763-3.156475...  2.0833024665065247   \n",
       "3  -2.436623894737715-1.62188741251763210.8093928...   2.436623894737715   \n",
       "4  -3.761482251302726-4.388166234759397-0.5582724...   3.761482251302726   \n",
       "\n",
       "                                         I-raw(imag)  \\\n",
       "0  0.38316677887422790.0157715527837506420.173699...   \n",
       "1                1.88706324161069162.382563390852816   \n",
       "2                                 2.0911828422004763   \n",
       "3  1.62188741251763210.80939286942137072.52163388...   \n",
       "4                                  4.388166234759397   \n",
       "\n",
       "                                              II-Raw         II-raw(real)  \\\n",
       "0  0.08839254698785978-0.46058494392519740.018574...  0.08839254698785978   \n",
       "1  -1.6286314086073046-1.91241947436653842.375533...   1.6286314086073046   \n",
       "2  2.081892144201671-2.096825042148551-3.16831246...    2.081892144201671   \n",
       "3  -2.451270720916812-1.59400154792727040.8423342...    2.451270720916812   \n",
       "4  -3.7668295119824955-4.395488174341192-0.559104...   3.7668295119824955   \n",
       "\n",
       "                                        II-raw(imag)  ...  \\\n",
       "0  0.46058494392519740.018574163208737690.2102984...  ...   \n",
       "1               1.91241947436653842.3755332803069313  ...   \n",
       "2                                  2.096825042148551  ...   \n",
       "3  1.59400154792727040.84233429023056482.57371201...  ...   \n",
       "4                                  4.395488174341192  ...   \n",
       "\n",
       "                                           UV4(imag)  \\\n",
       "0  0.470722063741797370.024206860631505780.216772...   \n",
       "1               1.89017171147568172.3721484122663203   \n",
       "2                                  2.074290231512567   \n",
       "3  1.63144828037718480.93607914990298792.58976441...   \n",
       "4                                  4.409008581293819   \n",
       "\n",
       "                                                 UV5             UV5(real)  \\\n",
       "0  -0.054040679304980195-0.57966340138374240.0219...  0.054040679304980195   \n",
       "1  -1.6131644093207493-1.91637167176631132.368489...    1.6131644093207493   \n",
       "2  2.0813280152797295-2.070347489380177-3.1404432...    2.0813280152797295   \n",
       "3  -2.5540195883392327-1.60668107982672480.918064...    2.5540195883392327   \n",
       "4  -3.7459974755842267-4.396049910446674-0.581074...    3.7459974755842267   \n",
       "\n",
       "                                           UV5(imag)  \\\n",
       "0  0.57966340138374240.0219537816623985440.267167...   \n",
       "1               1.91637167176631132.3684894658418543   \n",
       "2                                  2.070347489380177   \n",
       "3  1.60668107982672480.91806469944535232.61453000...   \n",
       "4                                  4.396049910446674   \n",
       "\n",
       "                                                 UV6           UV6(real)  \\\n",
       "0  -0.1948170631050768-0.691155369173090.02956479...  0.1948170631050768   \n",
       "1  -1.6213172961464173-1.9433709528793672.3583622...  1.6213172961464173   \n",
       "2  2.07794324174808-2.068665026142649-3.137636860...    2.07794324174808   \n",
       "3  -2.5120688673206115-1.5785220475832330.9011707...  2.5120688673206115   \n",
       "4  -3.7510662331035918-4.408446845188338-0.589796...  3.7510662331035918   \n",
       "\n",
       "                                           UV6(imag)  \\\n",
       "0  0.691155369173090.029564792326333960.326568174...   \n",
       "1                1.9433709528793672.3583622695584063   \n",
       "2                                  2.068665026142649   \n",
       "3  1.5785220475832330.90117070547782532.622438914...   \n",
       "4                                  4.408446845188338   \n",
       "\n",
       "                                                 WCT           WCT(real)  \\\n",
       "0  -0.3170091969449017-0.79643426352645690.029001...  0.3170091969449017   \n",
       "1  -1.6199081552135859-1.95860245521781782.350756...  1.6199081552135859   \n",
       "2  2.079353564052934-2.066404747247788-3.13677549...   2.079353564052934   \n",
       "3  -2.4898222728410393-1.5790911468605870.8718894...  2.4898222728410393   \n",
       "4  -3.755577984302147-4.4081562920303305-0.587553...   3.755577984302147   \n",
       "\n",
       "                                           WCT(imag)  \n",
       "0  0.79643426352645690.029001522584057150.3786583...  \n",
       "1                1.95860245521781782.350756594406426  \n",
       "2                                  2.066404747247788  \n",
       "3  1.5790911468605870.87188944253631942.624114529...  \n",
       "4                                 4.4081562920303305  \n",
       "\n",
       "[5 rows x 115 columns]"
      ]
     },
     "execution_count": 67,
     "metadata": {},
     "output_type": "execute_result"
    }
   ],
   "source": [
    "df.head()"
   ]
  },
  {
   "cell_type": "code",
   "execution_count": 74,
   "metadata": {},
   "outputs": [],
   "source": [
    "temp1 = pd.DataFrame(df[features1])"
   ]
  },
  {
   "cell_type": "code",
   "execution_count": 75,
   "metadata": {
    "scrolled": true
   },
   "outputs": [
    {
     "data": {
      "text/html": [
       "<div>\n",
       "<style scoped>\n",
       "    .dataframe tbody tr th:only-of-type {\n",
       "        vertical-align: middle;\n",
       "    }\n",
       "\n",
       "    .dataframe tbody tr th {\n",
       "        vertical-align: top;\n",
       "    }\n",
       "\n",
       "    .dataframe thead th {\n",
       "        text-align: right;\n",
       "    }\n",
       "</style>\n",
       "<table border=\"1\" class=\"dataframe\">\n",
       "  <thead>\n",
       "    <tr style=\"text-align: right;\">\n",
       "      <th></th>\n",
       "      <th>Patient ID</th>\n",
       "      <th>I-raw(real)</th>\n",
       "      <th>I-raw(imag)</th>\n",
       "      <th>II-raw(real)</th>\n",
       "      <th>II-raw(imag)</th>\n",
       "      <th>III-raw(real)</th>\n",
       "      <th>III-raw(imag)</th>\n",
       "      <th>V1-Raw(real)</th>\n",
       "      <th>V1-Raw(imag)</th>\n",
       "      <th>V2-Raw(real)</th>\n",
       "      <th>...</th>\n",
       "      <th>UV3(real)</th>\n",
       "      <th>UV3(imag)</th>\n",
       "      <th>UV4(real)</th>\n",
       "      <th>UV4(imag)</th>\n",
       "      <th>UV5(real)</th>\n",
       "      <th>UV5(imag)</th>\n",
       "      <th>UV6(real)</th>\n",
       "      <th>UV6(imag)</th>\n",
       "      <th>WCT(real)</th>\n",
       "      <th>WCT(imag)</th>\n",
       "    </tr>\n",
       "  </thead>\n",
       "  <tbody>\n",
       "    <tr>\n",
       "      <th>0</th>\n",
       "      <td>patient001</td>\n",
       "      <td>0.1832743937389645</td>\n",
       "      <td>0.38316677887422790.0157715527837506420.173699...</td>\n",
       "      <td>0.08839254698785978</td>\n",
       "      <td>0.46058494392519740.018574163208737690.2102984...</td>\n",
       "      <td>0.04307790481132811</td>\n",
       "      <td>0.56615814175711080.0233688251612890650.264073...</td>\n",
       "      <td>0.18382667456987897</td>\n",
       "      <td>0.6832745760253460.0270232093428898240.3226264...</td>\n",
       "      <td>0.30347831658749735</td>\n",
       "      <td>...</td>\n",
       "      <td>0.17314004049168413</td>\n",
       "      <td>0.39188143187785340.0171728579962441670.181021...</td>\n",
       "      <td>0.07883808861303958</td>\n",
       "      <td>0.470722063741797370.024206860631505780.216772...</td>\n",
       "      <td>0.054040679304980195</td>\n",
       "      <td>0.57966340138374240.0219537816623985440.267167...</td>\n",
       "      <td>0.1948170631050768</td>\n",
       "      <td>0.691155369173090.029564792326333960.326568174...</td>\n",
       "      <td>0.3170091969449017</td>\n",
       "      <td>0.79643426352645690.029001522584057150.3786583...</td>\n",
       "    </tr>\n",
       "    <tr>\n",
       "      <th>1</th>\n",
       "      <td>patient002</td>\n",
       "      <td>1.627792634242524</td>\n",
       "      <td>1.88706324161069162.382563390852816</td>\n",
       "      <td>1.6286314086073046</td>\n",
       "      <td>1.91241947436653842.3755332803069313</td>\n",
       "      <td>1.6325904236090694</td>\n",
       "      <td>1.9340899499967542.3752454980038835</td>\n",
       "      <td>1.636247479839513</td>\n",
       "      <td>1.95718144042239372.365954240791194</td>\n",
       "      <td>1.6348383389066816</td>\n",
       "      <td>...</td>\n",
       "      <td>1.6052799302918113</td>\n",
       "      <td>1.8760947836585132.370462830205611</td>\n",
       "      <td>1.6072258868181024</td>\n",
       "      <td>1.89017171147568172.3721484122663203</td>\n",
       "      <td>1.6131644093207493</td>\n",
       "      <td>1.91637167176631132.3684894658418543</td>\n",
       "      <td>1.6213172961464173</td>\n",
       "      <td>1.9433709528793672.3583622695584063</td>\n",
       "      <td>1.6199081552135859</td>\n",
       "      <td>1.95860245521781782.350756594406426</td>\n",
       "    </tr>\n",
       "    <tr>\n",
       "      <th>2</th>\n",
       "      <td>patient003</td>\n",
       "      <td>2.0833024665065247</td>\n",
       "      <td>2.0911828422004763</td>\n",
       "      <td>2.081892144201671</td>\n",
       "      <td>2.096825042148551</td>\n",
       "      <td>2.0740199815182137</td>\n",
       "      <td>2.1106076450337565</td>\n",
       "      <td>2.0711993369085056</td>\n",
       "      <td>2.1100468239545807</td>\n",
       "      <td>2.0824562731236127</td>\n",
       "      <td>...</td>\n",
       "      <td>2.0833024665065247</td>\n",
       "      <td>2.061629270785713</td>\n",
       "      <td>2.0799176929748753</td>\n",
       "      <td>2.074290231512567</td>\n",
       "      <td>2.0813280152797295</td>\n",
       "      <td>2.070347489380177</td>\n",
       "      <td>2.07794324174808</td>\n",
       "      <td>2.068665026142649</td>\n",
       "      <td>2.079353564052934</td>\n",
       "      <td>2.066404747247788</td>\n",
       "    </tr>\n",
       "    <tr>\n",
       "      <th>3</th>\n",
       "      <td>patient004</td>\n",
       "      <td>2.436623894737715</td>\n",
       "      <td>1.62188741251763210.80939286942137072.52163388...</td>\n",
       "      <td>2.451270720916812</td>\n",
       "      <td>1.59400154792727040.84233429023056482.57371201...</td>\n",
       "      <td>2.4760321478158143</td>\n",
       "      <td>1.55571254854687150.90398429621965372.63198992...</td>\n",
       "      <td>2.4957362743548637</td>\n",
       "      <td>1.53488351499570340.93551892165793362.66466442...</td>\n",
       "      <td>2.494050507568213</td>\n",
       "      <td>...</td>\n",
       "      <td>2.5540195883392327</td>\n",
       "      <td>1.63229054730766920.92397821980981462.55571590...</td>\n",
       "      <td>2.584142306330206</td>\n",
       "      <td>1.63144828037718480.93607914990298792.58976441...</td>\n",
       "      <td>2.5540195883392327</td>\n",
       "      <td>1.60668107982672480.91806469944535232.61453000...</td>\n",
       "      <td>2.5120688673206115</td>\n",
       "      <td>1.5785220475832330.90117070547782532.622438914...</td>\n",
       "      <td>2.4898222728410393</td>\n",
       "      <td>1.5790911468605870.87188944253631942.624114529...</td>\n",
       "    </tr>\n",
       "    <tr>\n",
       "      <th>4</th>\n",
       "      <td>patient005</td>\n",
       "      <td>3.761482251302726</td>\n",
       "      <td>4.388166234759397</td>\n",
       "      <td>3.7668295119824955</td>\n",
       "      <td>4.395488174341192</td>\n",
       "      <td>3.7589571559817236</td>\n",
       "      <td>4.397173382657638</td>\n",
       "      <td>3.7648614229823028</td>\n",
       "      <td>4.401124905606543</td>\n",
       "      <td>3.7651399261427074</td>\n",
       "      <td>...</td>\n",
       "      <td>3.7521988126225705</td>\n",
       "      <td>4.398025671921126</td>\n",
       "      <td>3.7536098953019543</td>\n",
       "      <td>4.409008581293819</td>\n",
       "      <td>3.7459974755842267</td>\n",
       "      <td>4.396049910446674</td>\n",
       "      <td>3.7510662331035918</td>\n",
       "      <td>4.408446845188338</td>\n",
       "      <td>3.755577984302147</td>\n",
       "      <td>4.4081562920303305</td>\n",
       "    </tr>\n",
       "  </tbody>\n",
       "</table>\n",
       "<p>5 rows × 75 columns</p>\n",
       "</div>"
      ],
      "text/plain": [
       "   Patient ID         I-raw(real)  \\\n",
       "0  patient001  0.1832743937389645   \n",
       "1  patient002   1.627792634242524   \n",
       "2  patient003  2.0833024665065247   \n",
       "3  patient004   2.436623894737715   \n",
       "4  patient005   3.761482251302726   \n",
       "\n",
       "                                         I-raw(imag)         II-raw(real)  \\\n",
       "0  0.38316677887422790.0157715527837506420.173699...  0.08839254698785978   \n",
       "1                1.88706324161069162.382563390852816   1.6286314086073046   \n",
       "2                                 2.0911828422004763    2.081892144201671   \n",
       "3  1.62188741251763210.80939286942137072.52163388...    2.451270720916812   \n",
       "4                                  4.388166234759397   3.7668295119824955   \n",
       "\n",
       "                                        II-raw(imag)        III-raw(real)  \\\n",
       "0  0.46058494392519740.018574163208737690.2102984...  0.04307790481132811   \n",
       "1               1.91241947436653842.3755332803069313   1.6325904236090694   \n",
       "2                                  2.096825042148551   2.0740199815182137   \n",
       "3  1.59400154792727040.84233429023056482.57371201...   2.4760321478158143   \n",
       "4                                  4.395488174341192   3.7589571559817236   \n",
       "\n",
       "                                       III-raw(imag)         V1-Raw(real)  \\\n",
       "0  0.56615814175711080.0233688251612890650.264073...  0.18382667456987897   \n",
       "1                1.9340899499967542.3752454980038835    1.636247479839513   \n",
       "2                                 2.1106076450337565   2.0711993369085056   \n",
       "3  1.55571254854687150.90398429621965372.63198992...   2.4957362743548637   \n",
       "4                                  4.397173382657638   3.7648614229823028   \n",
       "\n",
       "                                        V1-Raw(imag)         V2-Raw(real)  \\\n",
       "0  0.6832745760253460.0270232093428898240.3226264...  0.30347831658749735   \n",
       "1                1.95718144042239372.365954240791194   1.6348383389066816   \n",
       "2                                 2.1100468239545807   2.0824562731236127   \n",
       "3  1.53488351499570340.93551892165793362.66466442...    2.494050507568213   \n",
       "4                                  4.401124905606543   3.7651399261427074   \n",
       "\n",
       "   ...            UV3(real)  \\\n",
       "0  ...  0.17314004049168413   \n",
       "1  ...   1.6052799302918113   \n",
       "2  ...   2.0833024665065247   \n",
       "3  ...   2.5540195883392327   \n",
       "4  ...   3.7521988126225705   \n",
       "\n",
       "                                           UV3(imag)            UV4(real)  \\\n",
       "0  0.39188143187785340.0171728579962441670.181021...  0.07883808861303958   \n",
       "1                 1.8760947836585132.370462830205611   1.6072258868181024   \n",
       "2                                  2.061629270785713   2.0799176929748753   \n",
       "3  1.63229054730766920.92397821980981462.55571590...    2.584142306330206   \n",
       "4                                  4.398025671921126   3.7536098953019543   \n",
       "\n",
       "                                           UV4(imag)             UV5(real)  \\\n",
       "0  0.470722063741797370.024206860631505780.216772...  0.054040679304980195   \n",
       "1               1.89017171147568172.3721484122663203    1.6131644093207493   \n",
       "2                                  2.074290231512567    2.0813280152797295   \n",
       "3  1.63144828037718480.93607914990298792.58976441...    2.5540195883392327   \n",
       "4                                  4.409008581293819    3.7459974755842267   \n",
       "\n",
       "                                           UV5(imag)           UV6(real)  \\\n",
       "0  0.57966340138374240.0219537816623985440.267167...  0.1948170631050768   \n",
       "1               1.91637167176631132.3684894658418543  1.6213172961464173   \n",
       "2                                  2.070347489380177    2.07794324174808   \n",
       "3  1.60668107982672480.91806469944535232.61453000...  2.5120688673206115   \n",
       "4                                  4.396049910446674  3.7510662331035918   \n",
       "\n",
       "                                           UV6(imag)           WCT(real)  \\\n",
       "0  0.691155369173090.029564792326333960.326568174...  0.3170091969449017   \n",
       "1                1.9433709528793672.3583622695584063  1.6199081552135859   \n",
       "2                                  2.068665026142649   2.079353564052934   \n",
       "3  1.5785220475832330.90117070547782532.622438914...  2.4898222728410393   \n",
       "4                                  4.408446845188338   3.755577984302147   \n",
       "\n",
       "                                           WCT(imag)  \n",
       "0  0.79643426352645690.029001522584057150.3786583...  \n",
       "1                1.95860245521781782.350756594406426  \n",
       "2                                  2.066404747247788  \n",
       "3  1.5790911468605870.87188944253631942.624114529...  \n",
       "4                                 4.4081562920303305  \n",
       "\n",
       "[5 rows x 75 columns]"
      ]
     },
     "execution_count": 75,
     "metadata": {},
     "output_type": "execute_result"
    }
   ],
   "source": [
    "temp1.head()"
   ]
  },
  {
   "cell_type": "code",
   "execution_count": null,
   "metadata": {},
   "outputs": [],
   "source": [
    "trace1 = go.Scatter(\n",
    "    x=clusterdata['diabetes'],\n",
    "    y=clusterdata['glucose'],\n",
    "    z=clusterdata['bmi'],\n",
    "    mode='markers',\n",
    "    marker=dict(\n",
    "        size=12,\n",
    "        color=clusterdata['cluster'],                # set color to an array/list of desired values\n",
    "        colorscale='Viridis',   # choose a colorscale\n",
    "        opacity=0.8\n",
    "    )\n",
    ")\n"
   ]
  },
  {
   "cell_type": "code",
   "execution_count": 98,
   "metadata": {},
   "outputs": [],
   "source": [
    "hover = temp['Patient ID'].to_list()\n"
   ]
  },
  {
   "cell_type": "code",
   "execution_count": 139,
   "metadata": {},
   "outputs": [
    {
     "data": {
      "application/vnd.plotly.v1+json": {
       "config": {
        "linkText": "Export to plot.ly",
        "plotlyServerURL": "https://plot.ly",
        "showLink": false
       },
       "data": [
        {
         "fillcolor": "maroon",
         "hovertext": [
          "patient001",
          "patient002",
          "patient003",
          "patient004",
          "patient005",
          "patient006",
          "patient007",
          "patient008",
          "patient009",
          "patient010",
          "patient011",
          "patient012",
          "patient013",
          "patient014",
          "patient015",
          "patient016",
          "patient017",
          "patient018",
          "patient019",
          "patient020",
          "patient021",
          "patient022",
          "patient023",
          "patient024",
          "patient025",
          "patient026",
          "patient027",
          "patient028",
          "patient029",
          "patient030",
          "patient031",
          "patient032",
          "patient033",
          "patient034",
          "patient035",
          "patient036",
          "patient037",
          "patient038",
          "patient039",
          "patient040",
          "patient041",
          "patient042",
          "patient043",
          "patient044",
          "patient045",
          "patient046",
          "patient047",
          "patient048",
          "patient049",
          "patient050",
          "patient051",
          "patient052",
          "patient053",
          "patient054",
          "patient055",
          "patient056",
          "patient057",
          "patient058",
          "patient059",
          "patient060",
          "patient061",
          "patient062",
          "patient063",
          "patient064",
          "patient065",
          "patient066",
          "patient067",
          "patient068",
          "patient069",
          "patient070",
          "patient071",
          "patient072",
          "patient073",
          "patient074",
          "patient075",
          "patient076",
          "patient077",
          "patient078",
          "patient079",
          "patient080",
          "patient081",
          "patient082",
          "patient083",
          "patient084",
          "patient085",
          "patient086",
          "patient087",
          "patient088",
          "patient089",
          "patient090",
          "patient091",
          "patient092"
         ],
         "mode": "markers",
         "type": "scatter",
         "x": [
          0.7964342635264569,
          1.9586024552178178,
          2.066404747247788,
          1.579091146860587,
          4.4081562920303305,
          3.3988786014266443,
          1.0658687887943434,
          3.0559873153836126,
          0.09993430564870762,
          0.28461823131954384,
          6.017072292480167,
          3.5424532293681854,
          1.220432243084084,
          8.501264728609595,
          4.9016649944665085,
          2.9957410157427833,
          2.2192822421804217,
          0.04534195121490548,
          3.8389227887068427,
          0.8392430380161715,
          3.941942815991454,
          2.794718256175553,
          9.173581890488315,
          2.8338600863946444,
          1.876944598248298,
          6.55620136313729,
          5.828478252467624,
          1.1660838473167088,
          4.823983704058374,
          3.6849199848584187,
          1.111188430954443,
          4.108337216042312,
          0.11571288234228187,
          1.4183399978666051,
          4.235021948892491,
          3.230799641860646,
          1.0545934085335489,
          1.3336002865213674,
          2.4774426850889886,
          1.6275165365830468,
          2.267138414242424,
          0.28772924862810106,
          3.513744750286618,
          0.37106671270085706,
          1.3547167306061925,
          0.212552709855021,
          2.9225452042030873,
          1.3183973587338287,
          8.001559399056658,
          5.813546876545738,
          2.8189389729919427,
          4.425610587145731,
          0.5898049796223467,
          0.7378729751450291,
          1.3628445580666213,
          6.267093323464168,
          0.04559761319813557,
          0.5422282557765598,
          8.317089508774913,
          2.6353781453550345,
          0.31419672313316355,
          0.7589962469853895,
          0.5543402852867231,
          1.319804601173981,
          1.229992349810689,
          0.8299411576797324,
          0.15680926487412092,
          0.8442923615236224,
          1.2018360157377443,
          1.8355458840446248,
          0.31954140666285613,
          1.1520089774632412,
          2.0013705700208297,
          2.1308858339986854,
          7.194953965504288,
          0.6849518142909202,
          1.2598195489822712,
          1.048128833843157,
          1.2916611214031488,
          4.621849113893182,
          0.2742152682276571,
          0.09457804922630092,
          0.21874024855718555,
          0.5577114334263782,
          0.46902097298473894,
          1.8696161620968224,
          0.1790513056193778,
          0.572356715386455,
          0.3544454430742276,
          0.9836601193842868,
          0.2863135006698215,
          0.1852345655093346
         ],
         "y": [
          0.3170091969449017,
          1.6199081552135859,
          2.079353564052934,
          2.4898222728410393,
          3.755577984302147,
          1.8102219136599287,
          0.004500968492205992,
          0.725776237749868,
          2.420842843396966,
          0.285739654466451,
          2.1838173032654273,
          3.175056306695001,
          2.6548075618527265,
          2.5526253692949608,
          2.2387134772293718,
          2.1860543137360944,
          2.4171848867208894,
          1.3817417245916812,
          1.9754614339594263,
          3.1089114394713397,
          3.3203247278078685,
          5.086362721102432,
          0.18384131508643828,
          1.7001466674053802,
          0.7131004211220655,
          3.9667277576172446,
          2.4813836800175024,
          0.6100630410894378,
          0.12189977646313602,
          0.12276825258372231,
          4.2110977470535405,
          1.0351841740746253,
          5.582973043110013,
          1.952106279463544,
          3.2966827152002005,
          2.8403288327594622,
          2.5351504227112027,
          1.8958003528398852,
          1.9273290239047982,
          3.3454022059260087,
          3.811315569516822,
          0.8273916480070826,
          3.021919720138364,
          2.4746177817168733,
          0.5067446585492631,
          1.9239645780087309,
          1.3769669172273484,
          2.1581940094770133,
          2.6534068940193403,
          4.813282356705848,
          0.5647466841329879,
          6.342801879836019,
          4.188280708266137,
          1.6787432543289524,
          1.5332031757827251,
          0.640749432638258,
          0.24436957591061212,
          0.2930678918459848,
          0.5971117808438386,
          2.370736480268505,
          1.7601153585319536,
          1.9963121999202114,
          1.3333228272644888,
          1.257296764265978,
          0.8966730793787803,
          2.4670168874677936,
          1.917763361327484,
          0.17481815650191032,
          0.6762387954508374,
          2.5523081669685457,
          0.11036573759748071,
          0.7387282793566141,
          1.3369718326318363,
          5.956007830497664,
          1.4692882333188122,
          0.7409771784346558,
          0.8544450149685724,
          0.45298300634251704,
          0.20496262024843842,
          0.46310297681235035,
          2.0098163800345508,
          0.24212273415160163,
          0.45523811295160244,
          1.4926499179694042,
          0.6438580663476782,
          0.1922829550151976,
          2.058542524458666,
          1.0768293618606668,
          0.4656522492700303,
          0.38286694215154865,
          0.09234809097862977,
          2.2660135755216695
         ]
        }
       ],
       "layout": {
        "template": {
         "data": {
          "bar": [
           {
            "error_x": {
             "color": "#2a3f5f"
            },
            "error_y": {
             "color": "#2a3f5f"
            },
            "marker": {
             "line": {
              "color": "#E5ECF6",
              "width": 0.5
             }
            },
            "type": "bar"
           }
          ],
          "barpolar": [
           {
            "marker": {
             "line": {
              "color": "#E5ECF6",
              "width": 0.5
             }
            },
            "type": "barpolar"
           }
          ],
          "carpet": [
           {
            "aaxis": {
             "endlinecolor": "#2a3f5f",
             "gridcolor": "white",
             "linecolor": "white",
             "minorgridcolor": "white",
             "startlinecolor": "#2a3f5f"
            },
            "baxis": {
             "endlinecolor": "#2a3f5f",
             "gridcolor": "white",
             "linecolor": "white",
             "minorgridcolor": "white",
             "startlinecolor": "#2a3f5f"
            },
            "type": "carpet"
           }
          ],
          "choropleth": [
           {
            "colorbar": {
             "outlinewidth": 0,
             "ticks": ""
            },
            "type": "choropleth"
           }
          ],
          "contour": [
           {
            "colorbar": {
             "outlinewidth": 0,
             "ticks": ""
            },
            "colorscale": [
             [
              0,
              "#0d0887"
             ],
             [
              0.1111111111111111,
              "#46039f"
             ],
             [
              0.2222222222222222,
              "#7201a8"
             ],
             [
              0.3333333333333333,
              "#9c179e"
             ],
             [
              0.4444444444444444,
              "#bd3786"
             ],
             [
              0.5555555555555556,
              "#d8576b"
             ],
             [
              0.6666666666666666,
              "#ed7953"
             ],
             [
              0.7777777777777778,
              "#fb9f3a"
             ],
             [
              0.8888888888888888,
              "#fdca26"
             ],
             [
              1,
              "#f0f921"
             ]
            ],
            "type": "contour"
           }
          ],
          "contourcarpet": [
           {
            "colorbar": {
             "outlinewidth": 0,
             "ticks": ""
            },
            "type": "contourcarpet"
           }
          ],
          "heatmap": [
           {
            "colorbar": {
             "outlinewidth": 0,
             "ticks": ""
            },
            "colorscale": [
             [
              0,
              "#0d0887"
             ],
             [
              0.1111111111111111,
              "#46039f"
             ],
             [
              0.2222222222222222,
              "#7201a8"
             ],
             [
              0.3333333333333333,
              "#9c179e"
             ],
             [
              0.4444444444444444,
              "#bd3786"
             ],
             [
              0.5555555555555556,
              "#d8576b"
             ],
             [
              0.6666666666666666,
              "#ed7953"
             ],
             [
              0.7777777777777778,
              "#fb9f3a"
             ],
             [
              0.8888888888888888,
              "#fdca26"
             ],
             [
              1,
              "#f0f921"
             ]
            ],
            "type": "heatmap"
           }
          ],
          "heatmapgl": [
           {
            "colorbar": {
             "outlinewidth": 0,
             "ticks": ""
            },
            "colorscale": [
             [
              0,
              "#0d0887"
             ],
             [
              0.1111111111111111,
              "#46039f"
             ],
             [
              0.2222222222222222,
              "#7201a8"
             ],
             [
              0.3333333333333333,
              "#9c179e"
             ],
             [
              0.4444444444444444,
              "#bd3786"
             ],
             [
              0.5555555555555556,
              "#d8576b"
             ],
             [
              0.6666666666666666,
              "#ed7953"
             ],
             [
              0.7777777777777778,
              "#fb9f3a"
             ],
             [
              0.8888888888888888,
              "#fdca26"
             ],
             [
              1,
              "#f0f921"
             ]
            ],
            "type": "heatmapgl"
           }
          ],
          "histogram": [
           {
            "marker": {
             "colorbar": {
              "outlinewidth": 0,
              "ticks": ""
             }
            },
            "type": "histogram"
           }
          ],
          "histogram2d": [
           {
            "colorbar": {
             "outlinewidth": 0,
             "ticks": ""
            },
            "colorscale": [
             [
              0,
              "#0d0887"
             ],
             [
              0.1111111111111111,
              "#46039f"
             ],
             [
              0.2222222222222222,
              "#7201a8"
             ],
             [
              0.3333333333333333,
              "#9c179e"
             ],
             [
              0.4444444444444444,
              "#bd3786"
             ],
             [
              0.5555555555555556,
              "#d8576b"
             ],
             [
              0.6666666666666666,
              "#ed7953"
             ],
             [
              0.7777777777777778,
              "#fb9f3a"
             ],
             [
              0.8888888888888888,
              "#fdca26"
             ],
             [
              1,
              "#f0f921"
             ]
            ],
            "type": "histogram2d"
           }
          ],
          "histogram2dcontour": [
           {
            "colorbar": {
             "outlinewidth": 0,
             "ticks": ""
            },
            "colorscale": [
             [
              0,
              "#0d0887"
             ],
             [
              0.1111111111111111,
              "#46039f"
             ],
             [
              0.2222222222222222,
              "#7201a8"
             ],
             [
              0.3333333333333333,
              "#9c179e"
             ],
             [
              0.4444444444444444,
              "#bd3786"
             ],
             [
              0.5555555555555556,
              "#d8576b"
             ],
             [
              0.6666666666666666,
              "#ed7953"
             ],
             [
              0.7777777777777778,
              "#fb9f3a"
             ],
             [
              0.8888888888888888,
              "#fdca26"
             ],
             [
              1,
              "#f0f921"
             ]
            ],
            "type": "histogram2dcontour"
           }
          ],
          "mesh3d": [
           {
            "colorbar": {
             "outlinewidth": 0,
             "ticks": ""
            },
            "type": "mesh3d"
           }
          ],
          "parcoords": [
           {
            "line": {
             "colorbar": {
              "outlinewidth": 0,
              "ticks": ""
             }
            },
            "type": "parcoords"
           }
          ],
          "pie": [
           {
            "automargin": true,
            "type": "pie"
           }
          ],
          "scatter": [
           {
            "marker": {
             "colorbar": {
              "outlinewidth": 0,
              "ticks": ""
             }
            },
            "type": "scatter"
           }
          ],
          "scatter3d": [
           {
            "line": {
             "colorbar": {
              "outlinewidth": 0,
              "ticks": ""
             }
            },
            "marker": {
             "colorbar": {
              "outlinewidth": 0,
              "ticks": ""
             }
            },
            "type": "scatter3d"
           }
          ],
          "scattercarpet": [
           {
            "marker": {
             "colorbar": {
              "outlinewidth": 0,
              "ticks": ""
             }
            },
            "type": "scattercarpet"
           }
          ],
          "scattergeo": [
           {
            "marker": {
             "colorbar": {
              "outlinewidth": 0,
              "ticks": ""
             }
            },
            "type": "scattergeo"
           }
          ],
          "scattergl": [
           {
            "marker": {
             "colorbar": {
              "outlinewidth": 0,
              "ticks": ""
             }
            },
            "type": "scattergl"
           }
          ],
          "scattermapbox": [
           {
            "marker": {
             "colorbar": {
              "outlinewidth": 0,
              "ticks": ""
             }
            },
            "type": "scattermapbox"
           }
          ],
          "scatterpolar": [
           {
            "marker": {
             "colorbar": {
              "outlinewidth": 0,
              "ticks": ""
             }
            },
            "type": "scatterpolar"
           }
          ],
          "scatterpolargl": [
           {
            "marker": {
             "colorbar": {
              "outlinewidth": 0,
              "ticks": ""
             }
            },
            "type": "scatterpolargl"
           }
          ],
          "scatterternary": [
           {
            "marker": {
             "colorbar": {
              "outlinewidth": 0,
              "ticks": ""
             }
            },
            "type": "scatterternary"
           }
          ],
          "surface": [
           {
            "colorbar": {
             "outlinewidth": 0,
             "ticks": ""
            },
            "colorscale": [
             [
              0,
              "#0d0887"
             ],
             [
              0.1111111111111111,
              "#46039f"
             ],
             [
              0.2222222222222222,
              "#7201a8"
             ],
             [
              0.3333333333333333,
              "#9c179e"
             ],
             [
              0.4444444444444444,
              "#bd3786"
             ],
             [
              0.5555555555555556,
              "#d8576b"
             ],
             [
              0.6666666666666666,
              "#ed7953"
             ],
             [
              0.7777777777777778,
              "#fb9f3a"
             ],
             [
              0.8888888888888888,
              "#fdca26"
             ],
             [
              1,
              "#f0f921"
             ]
            ],
            "type": "surface"
           }
          ],
          "table": [
           {
            "cells": {
             "fill": {
              "color": "#EBF0F8"
             },
             "line": {
              "color": "white"
             }
            },
            "header": {
             "fill": {
              "color": "#C8D4E3"
             },
             "line": {
              "color": "white"
             }
            },
            "type": "table"
           }
          ]
         },
         "layout": {
          "annotationdefaults": {
           "arrowcolor": "#2a3f5f",
           "arrowhead": 0,
           "arrowwidth": 1
          },
          "coloraxis": {
           "colorbar": {
            "outlinewidth": 0,
            "ticks": ""
           }
          },
          "colorscale": {
           "diverging": [
            [
             0,
             "#8e0152"
            ],
            [
             0.1,
             "#c51b7d"
            ],
            [
             0.2,
             "#de77ae"
            ],
            [
             0.3,
             "#f1b6da"
            ],
            [
             0.4,
             "#fde0ef"
            ],
            [
             0.5,
             "#f7f7f7"
            ],
            [
             0.6,
             "#e6f5d0"
            ],
            [
             0.7,
             "#b8e186"
            ],
            [
             0.8,
             "#7fbc41"
            ],
            [
             0.9,
             "#4d9221"
            ],
            [
             1,
             "#276419"
            ]
           ],
           "sequential": [
            [
             0,
             "#0d0887"
            ],
            [
             0.1111111111111111,
             "#46039f"
            ],
            [
             0.2222222222222222,
             "#7201a8"
            ],
            [
             0.3333333333333333,
             "#9c179e"
            ],
            [
             0.4444444444444444,
             "#bd3786"
            ],
            [
             0.5555555555555556,
             "#d8576b"
            ],
            [
             0.6666666666666666,
             "#ed7953"
            ],
            [
             0.7777777777777778,
             "#fb9f3a"
            ],
            [
             0.8888888888888888,
             "#fdca26"
            ],
            [
             1,
             "#f0f921"
            ]
           ],
           "sequentialminus": [
            [
             0,
             "#0d0887"
            ],
            [
             0.1111111111111111,
             "#46039f"
            ],
            [
             0.2222222222222222,
             "#7201a8"
            ],
            [
             0.3333333333333333,
             "#9c179e"
            ],
            [
             0.4444444444444444,
             "#bd3786"
            ],
            [
             0.5555555555555556,
             "#d8576b"
            ],
            [
             0.6666666666666666,
             "#ed7953"
            ],
            [
             0.7777777777777778,
             "#fb9f3a"
            ],
            [
             0.8888888888888888,
             "#fdca26"
            ],
            [
             1,
             "#f0f921"
            ]
           ]
          },
          "colorway": [
           "#636efa",
           "#EF553B",
           "#00cc96",
           "#ab63fa",
           "#FFA15A",
           "#19d3f3",
           "#FF6692",
           "#B6E880",
           "#FF97FF",
           "#FECB52"
          ],
          "font": {
           "color": "#2a3f5f"
          },
          "geo": {
           "bgcolor": "white",
           "lakecolor": "white",
           "landcolor": "#E5ECF6",
           "showlakes": true,
           "showland": true,
           "subunitcolor": "white"
          },
          "hoverlabel": {
           "align": "left"
          },
          "hovermode": "closest",
          "mapbox": {
           "style": "light"
          },
          "paper_bgcolor": "white",
          "plot_bgcolor": "#E5ECF6",
          "polar": {
           "angularaxis": {
            "gridcolor": "white",
            "linecolor": "white",
            "ticks": ""
           },
           "bgcolor": "#E5ECF6",
           "radialaxis": {
            "gridcolor": "white",
            "linecolor": "white",
            "ticks": ""
           }
          },
          "scene": {
           "xaxis": {
            "backgroundcolor": "#E5ECF6",
            "gridcolor": "white",
            "gridwidth": 2,
            "linecolor": "white",
            "showbackground": true,
            "ticks": "",
            "zerolinecolor": "white"
           },
           "yaxis": {
            "backgroundcolor": "#E5ECF6",
            "gridcolor": "white",
            "gridwidth": 2,
            "linecolor": "white",
            "showbackground": true,
            "ticks": "",
            "zerolinecolor": "white"
           },
           "zaxis": {
            "backgroundcolor": "#E5ECF6",
            "gridcolor": "white",
            "gridwidth": 2,
            "linecolor": "white",
            "showbackground": true,
            "ticks": "",
            "zerolinecolor": "white"
           }
          },
          "shapedefaults": {
           "line": {
            "color": "#2a3f5f"
           }
          },
          "ternary": {
           "aaxis": {
            "gridcolor": "white",
            "linecolor": "white",
            "ticks": ""
           },
           "baxis": {
            "gridcolor": "white",
            "linecolor": "white",
            "ticks": ""
           },
           "bgcolor": "#E5ECF6",
           "caxis": {
            "gridcolor": "white",
            "linecolor": "white",
            "ticks": ""
           }
          },
          "title": {
           "x": 0.05
          },
          "xaxis": {
           "automargin": true,
           "gridcolor": "white",
           "linecolor": "white",
           "ticks": "",
           "title": {
            "standoff": 15
           },
           "zerolinecolor": "white",
           "zerolinewidth": 2
          },
          "yaxis": {
           "automargin": true,
           "gridcolor": "white",
           "linecolor": "white",
           "ticks": "",
           "title": {
            "standoff": 15
           },
           "zerolinecolor": "white",
           "zerolinewidth": 2
          }
         }
        }
       }
      },
      "text/html": [
       "<div>\n",
       "        \n",
       "        \n",
       "            <div id=\"59c2fa7a-669d-4390-8346-d2e9be4e416d\" class=\"plotly-graph-div\" style=\"height:525px; width:100%;\"></div>\n",
       "            <script type=\"text/javascript\">\n",
       "                require([\"plotly\"], function(Plotly) {\n",
       "                    window.PLOTLYENV=window.PLOTLYENV || {};\n",
       "                    \n",
       "                if (document.getElementById(\"59c2fa7a-669d-4390-8346-d2e9be4e416d\")) {\n",
       "                    Plotly.newPlot(\n",
       "                        '59c2fa7a-669d-4390-8346-d2e9be4e416d',\n",
       "                        [{\"fillcolor\": \"maroon\", \"hovertext\": [\"patient001\", \"patient002\", \"patient003\", \"patient004\", \"patient005\", \"patient006\", \"patient007\", \"patient008\", \"patient009\", \"patient010\", \"patient011\", \"patient012\", \"patient013\", \"patient014\", \"patient015\", \"patient016\", \"patient017\", \"patient018\", \"patient019\", \"patient020\", \"patient021\", \"patient022\", \"patient023\", \"patient024\", \"patient025\", \"patient026\", \"patient027\", \"patient028\", \"patient029\", \"patient030\", \"patient031\", \"patient032\", \"patient033\", \"patient034\", \"patient035\", \"patient036\", \"patient037\", \"patient038\", \"patient039\", \"patient040\", \"patient041\", \"patient042\", \"patient043\", \"patient044\", \"patient045\", \"patient046\", \"patient047\", \"patient048\", \"patient049\", \"patient050\", \"patient051\", \"patient052\", \"patient053\", \"patient054\", \"patient055\", \"patient056\", \"patient057\", \"patient058\", \"patient059\", \"patient060\", \"patient061\", \"patient062\", \"patient063\", \"patient064\", \"patient065\", \"patient066\", \"patient067\", \"patient068\", \"patient069\", \"patient070\", \"patient071\", \"patient072\", \"patient073\", \"patient074\", \"patient075\", \"patient076\", \"patient077\", \"patient078\", \"patient079\", \"patient080\", \"patient081\", \"patient082\", \"patient083\", \"patient084\", \"patient085\", \"patient086\", \"patient087\", \"patient088\", \"patient089\", \"patient090\", \"patient091\", \"patient092\"], \"mode\": \"markers\", \"type\": \"scatter\", \"x\": [0.7964342635264569, 1.9586024552178178, 2.066404747247788, 1.579091146860587, 4.4081562920303305, 3.3988786014266443, 1.0658687887943434, 3.0559873153836126, 0.09993430564870762, 0.28461823131954384, 6.017072292480167, 3.5424532293681854, 1.220432243084084, 8.501264728609595, 4.9016649944665085, 2.9957410157427833, 2.2192822421804217, 0.04534195121490548, 3.8389227887068427, 0.8392430380161715, 3.941942815991454, 2.794718256175553, 9.173581890488315, 2.8338600863946444, 1.876944598248298, 6.55620136313729, 5.828478252467624, 1.1660838473167088, 4.823983704058374, 3.6849199848584187, 1.111188430954443, 4.108337216042312, 0.11571288234228187, 1.4183399978666051, 4.235021948892491, 3.230799641860646, 1.0545934085335489, 1.3336002865213674, 2.4774426850889886, 1.6275165365830468, 2.267138414242424, 0.28772924862810106, 3.513744750286618, 0.37106671270085706, 1.3547167306061925, 0.212552709855021, 2.9225452042030873, 1.3183973587338287, 8.001559399056658, 5.813546876545738, 2.8189389729919427, 4.425610587145731, 0.5898049796223467, 0.7378729751450291, 1.3628445580666213, 6.267093323464168, 0.04559761319813557, 0.5422282557765598, 8.317089508774913, 2.6353781453550345, 0.31419672313316355, 0.7589962469853895, 0.5543402852867231, 1.319804601173981, 1.229992349810689, 0.8299411576797324, 0.15680926487412092, 0.8442923615236224, 1.2018360157377443, 1.8355458840446248, 0.31954140666285613, 1.1520089774632412, 2.0013705700208297, 2.1308858339986854, 7.194953965504288, 0.6849518142909202, 1.2598195489822712, 1.048128833843157, 1.2916611214031488, 4.621849113893182, 0.2742152682276571, 0.09457804922630092, 0.21874024855718555, 0.5577114334263782, 0.46902097298473894, 1.8696161620968224, 0.1790513056193778, 0.572356715386455, 0.3544454430742276, 0.9836601193842868, 0.2863135006698215, 0.1852345655093346], \"y\": [0.3170091969449017, 1.6199081552135859, 2.079353564052934, 2.4898222728410393, 3.755577984302147, 1.8102219136599287, 0.004500968492205992, 0.725776237749868, 2.420842843396966, 0.285739654466451, 2.1838173032654273, 3.175056306695001, 2.6548075618527265, 2.5526253692949608, 2.2387134772293718, 2.1860543137360944, 2.4171848867208894, 1.3817417245916812, 1.9754614339594263, 3.1089114394713397, 3.3203247278078685, 5.086362721102432, 0.18384131508643828, 1.7001466674053802, 0.7131004211220655, 3.9667277576172446, 2.4813836800175024, 0.6100630410894378, 0.12189977646313602, 0.12276825258372231, 4.2110977470535405, 1.0351841740746253, 5.582973043110013, 1.952106279463544, 3.2966827152002005, 2.8403288327594622, 2.5351504227112027, 1.8958003528398852, 1.9273290239047982, 3.3454022059260087, 3.811315569516822, 0.8273916480070826, 3.021919720138364, 2.4746177817168733, 0.5067446585492631, 1.9239645780087309, 1.3769669172273484, 2.1581940094770133, 2.6534068940193403, 4.813282356705848, 0.5647466841329879, 6.342801879836019, 4.188280708266137, 1.6787432543289524, 1.5332031757827251, 0.640749432638258, 0.24436957591061212, 0.2930678918459848, 0.5971117808438386, 2.370736480268505, 1.7601153585319536, 1.9963121999202114, 1.3333228272644888, 1.257296764265978, 0.8966730793787803, 2.4670168874677936, 1.917763361327484, 0.17481815650191032, 0.6762387954508374, 2.5523081669685457, 0.11036573759748071, 0.7387282793566141, 1.3369718326318363, 5.956007830497664, 1.4692882333188122, 0.7409771784346558, 0.8544450149685724, 0.45298300634251704, 0.20496262024843842, 0.46310297681235035, 2.0098163800345508, 0.24212273415160163, 0.45523811295160244, 1.4926499179694042, 0.6438580663476782, 0.1922829550151976, 2.058542524458666, 1.0768293618606668, 0.4656522492700303, 0.38286694215154865, 0.09234809097862977, 2.2660135755216695]}],\n",
       "                        {\"template\": {\"data\": {\"bar\": [{\"error_x\": {\"color\": \"#2a3f5f\"}, \"error_y\": {\"color\": \"#2a3f5f\"}, \"marker\": {\"line\": {\"color\": \"#E5ECF6\", \"width\": 0.5}}, \"type\": \"bar\"}], \"barpolar\": [{\"marker\": {\"line\": {\"color\": \"#E5ECF6\", \"width\": 0.5}}, \"type\": \"barpolar\"}], \"carpet\": [{\"aaxis\": {\"endlinecolor\": \"#2a3f5f\", \"gridcolor\": \"white\", \"linecolor\": \"white\", \"minorgridcolor\": \"white\", \"startlinecolor\": \"#2a3f5f\"}, \"baxis\": {\"endlinecolor\": \"#2a3f5f\", \"gridcolor\": \"white\", \"linecolor\": \"white\", \"minorgridcolor\": \"white\", \"startlinecolor\": \"#2a3f5f\"}, \"type\": \"carpet\"}], \"choropleth\": [{\"colorbar\": {\"outlinewidth\": 0, \"ticks\": \"\"}, \"type\": \"choropleth\"}], \"contour\": [{\"colorbar\": {\"outlinewidth\": 0, \"ticks\": \"\"}, \"colorscale\": [[0.0, \"#0d0887\"], [0.1111111111111111, \"#46039f\"], [0.2222222222222222, \"#7201a8\"], [0.3333333333333333, \"#9c179e\"], [0.4444444444444444, \"#bd3786\"], [0.5555555555555556, \"#d8576b\"], [0.6666666666666666, \"#ed7953\"], [0.7777777777777778, \"#fb9f3a\"], [0.8888888888888888, \"#fdca26\"], [1.0, \"#f0f921\"]], \"type\": \"contour\"}], \"contourcarpet\": [{\"colorbar\": {\"outlinewidth\": 0, \"ticks\": \"\"}, \"type\": \"contourcarpet\"}], \"heatmap\": [{\"colorbar\": {\"outlinewidth\": 0, \"ticks\": \"\"}, \"colorscale\": [[0.0, \"#0d0887\"], [0.1111111111111111, \"#46039f\"], [0.2222222222222222, \"#7201a8\"], [0.3333333333333333, \"#9c179e\"], [0.4444444444444444, \"#bd3786\"], [0.5555555555555556, \"#d8576b\"], [0.6666666666666666, \"#ed7953\"], [0.7777777777777778, \"#fb9f3a\"], [0.8888888888888888, \"#fdca26\"], [1.0, \"#f0f921\"]], \"type\": \"heatmap\"}], \"heatmapgl\": [{\"colorbar\": {\"outlinewidth\": 0, \"ticks\": \"\"}, \"colorscale\": [[0.0, \"#0d0887\"], [0.1111111111111111, \"#46039f\"], [0.2222222222222222, \"#7201a8\"], [0.3333333333333333, \"#9c179e\"], [0.4444444444444444, \"#bd3786\"], [0.5555555555555556, \"#d8576b\"], [0.6666666666666666, \"#ed7953\"], [0.7777777777777778, \"#fb9f3a\"], [0.8888888888888888, \"#fdca26\"], [1.0, \"#f0f921\"]], \"type\": \"heatmapgl\"}], \"histogram\": [{\"marker\": {\"colorbar\": {\"outlinewidth\": 0, \"ticks\": \"\"}}, \"type\": \"histogram\"}], \"histogram2d\": [{\"colorbar\": {\"outlinewidth\": 0, \"ticks\": \"\"}, \"colorscale\": [[0.0, \"#0d0887\"], [0.1111111111111111, \"#46039f\"], [0.2222222222222222, \"#7201a8\"], [0.3333333333333333, \"#9c179e\"], [0.4444444444444444, \"#bd3786\"], [0.5555555555555556, \"#d8576b\"], [0.6666666666666666, \"#ed7953\"], [0.7777777777777778, \"#fb9f3a\"], [0.8888888888888888, \"#fdca26\"], [1.0, \"#f0f921\"]], \"type\": \"histogram2d\"}], \"histogram2dcontour\": [{\"colorbar\": {\"outlinewidth\": 0, \"ticks\": \"\"}, \"colorscale\": [[0.0, \"#0d0887\"], [0.1111111111111111, \"#46039f\"], [0.2222222222222222, \"#7201a8\"], [0.3333333333333333, \"#9c179e\"], [0.4444444444444444, \"#bd3786\"], [0.5555555555555556, \"#d8576b\"], [0.6666666666666666, \"#ed7953\"], [0.7777777777777778, \"#fb9f3a\"], [0.8888888888888888, \"#fdca26\"], [1.0, \"#f0f921\"]], \"type\": \"histogram2dcontour\"}], \"mesh3d\": [{\"colorbar\": {\"outlinewidth\": 0, \"ticks\": \"\"}, \"type\": \"mesh3d\"}], \"parcoords\": [{\"line\": {\"colorbar\": {\"outlinewidth\": 0, \"ticks\": \"\"}}, \"type\": \"parcoords\"}], \"pie\": [{\"automargin\": true, \"type\": \"pie\"}], \"scatter\": [{\"marker\": {\"colorbar\": {\"outlinewidth\": 0, \"ticks\": \"\"}}, \"type\": \"scatter\"}], \"scatter3d\": [{\"line\": {\"colorbar\": {\"outlinewidth\": 0, \"ticks\": \"\"}}, \"marker\": {\"colorbar\": {\"outlinewidth\": 0, \"ticks\": \"\"}}, \"type\": \"scatter3d\"}], \"scattercarpet\": [{\"marker\": {\"colorbar\": {\"outlinewidth\": 0, \"ticks\": \"\"}}, \"type\": \"scattercarpet\"}], \"scattergeo\": [{\"marker\": {\"colorbar\": {\"outlinewidth\": 0, \"ticks\": \"\"}}, \"type\": \"scattergeo\"}], \"scattergl\": [{\"marker\": {\"colorbar\": {\"outlinewidth\": 0, \"ticks\": \"\"}}, \"type\": \"scattergl\"}], \"scattermapbox\": [{\"marker\": {\"colorbar\": {\"outlinewidth\": 0, \"ticks\": \"\"}}, \"type\": \"scattermapbox\"}], \"scatterpolar\": [{\"marker\": {\"colorbar\": {\"outlinewidth\": 0, \"ticks\": \"\"}}, \"type\": \"scatterpolar\"}], \"scatterpolargl\": [{\"marker\": {\"colorbar\": {\"outlinewidth\": 0, \"ticks\": \"\"}}, \"type\": \"scatterpolargl\"}], \"scatterternary\": [{\"marker\": {\"colorbar\": {\"outlinewidth\": 0, \"ticks\": \"\"}}, \"type\": \"scatterternary\"}], \"surface\": [{\"colorbar\": {\"outlinewidth\": 0, \"ticks\": \"\"}, \"colorscale\": [[0.0, \"#0d0887\"], [0.1111111111111111, \"#46039f\"], [0.2222222222222222, \"#7201a8\"], [0.3333333333333333, \"#9c179e\"], [0.4444444444444444, \"#bd3786\"], [0.5555555555555556, \"#d8576b\"], [0.6666666666666666, \"#ed7953\"], [0.7777777777777778, \"#fb9f3a\"], [0.8888888888888888, \"#fdca26\"], [1.0, \"#f0f921\"]], \"type\": \"surface\"}], \"table\": [{\"cells\": {\"fill\": {\"color\": \"#EBF0F8\"}, \"line\": {\"color\": \"white\"}}, \"header\": {\"fill\": {\"color\": \"#C8D4E3\"}, \"line\": {\"color\": \"white\"}}, \"type\": \"table\"}]}, \"layout\": {\"annotationdefaults\": {\"arrowcolor\": \"#2a3f5f\", \"arrowhead\": 0, \"arrowwidth\": 1}, \"coloraxis\": {\"colorbar\": {\"outlinewidth\": 0, \"ticks\": \"\"}}, \"colorscale\": {\"diverging\": [[0, \"#8e0152\"], [0.1, \"#c51b7d\"], [0.2, \"#de77ae\"], [0.3, \"#f1b6da\"], [0.4, \"#fde0ef\"], [0.5, \"#f7f7f7\"], [0.6, \"#e6f5d0\"], [0.7, \"#b8e186\"], [0.8, \"#7fbc41\"], [0.9, \"#4d9221\"], [1, \"#276419\"]], \"sequential\": [[0.0, \"#0d0887\"], [0.1111111111111111, \"#46039f\"], [0.2222222222222222, \"#7201a8\"], [0.3333333333333333, \"#9c179e\"], [0.4444444444444444, \"#bd3786\"], [0.5555555555555556, \"#d8576b\"], [0.6666666666666666, \"#ed7953\"], [0.7777777777777778, \"#fb9f3a\"], [0.8888888888888888, \"#fdca26\"], [1.0, \"#f0f921\"]], \"sequentialminus\": [[0.0, \"#0d0887\"], [0.1111111111111111, \"#46039f\"], [0.2222222222222222, \"#7201a8\"], [0.3333333333333333, \"#9c179e\"], [0.4444444444444444, \"#bd3786\"], [0.5555555555555556, \"#d8576b\"], [0.6666666666666666, \"#ed7953\"], [0.7777777777777778, \"#fb9f3a\"], [0.8888888888888888, \"#fdca26\"], [1.0, \"#f0f921\"]]}, \"colorway\": [\"#636efa\", \"#EF553B\", \"#00cc96\", \"#ab63fa\", \"#FFA15A\", \"#19d3f3\", \"#FF6692\", \"#B6E880\", \"#FF97FF\", \"#FECB52\"], \"font\": {\"color\": \"#2a3f5f\"}, \"geo\": {\"bgcolor\": \"white\", \"lakecolor\": \"white\", \"landcolor\": \"#E5ECF6\", \"showlakes\": true, \"showland\": true, \"subunitcolor\": \"white\"}, \"hoverlabel\": {\"align\": \"left\"}, \"hovermode\": \"closest\", \"mapbox\": {\"style\": \"light\"}, \"paper_bgcolor\": \"white\", \"plot_bgcolor\": \"#E5ECF6\", \"polar\": {\"angularaxis\": {\"gridcolor\": \"white\", \"linecolor\": \"white\", \"ticks\": \"\"}, \"bgcolor\": \"#E5ECF6\", \"radialaxis\": {\"gridcolor\": \"white\", \"linecolor\": \"white\", \"ticks\": \"\"}}, \"scene\": {\"xaxis\": {\"backgroundcolor\": \"#E5ECF6\", \"gridcolor\": \"white\", \"gridwidth\": 2, \"linecolor\": \"white\", \"showbackground\": true, \"ticks\": \"\", \"zerolinecolor\": \"white\"}, \"yaxis\": {\"backgroundcolor\": \"#E5ECF6\", \"gridcolor\": \"white\", \"gridwidth\": 2, \"linecolor\": \"white\", \"showbackground\": true, \"ticks\": \"\", \"zerolinecolor\": \"white\"}, \"zaxis\": {\"backgroundcolor\": \"#E5ECF6\", \"gridcolor\": \"white\", \"gridwidth\": 2, \"linecolor\": \"white\", \"showbackground\": true, \"ticks\": \"\", \"zerolinecolor\": \"white\"}}, \"shapedefaults\": {\"line\": {\"color\": \"#2a3f5f\"}}, \"ternary\": {\"aaxis\": {\"gridcolor\": \"white\", \"linecolor\": \"white\", \"ticks\": \"\"}, \"baxis\": {\"gridcolor\": \"white\", \"linecolor\": \"white\", \"ticks\": \"\"}, \"bgcolor\": \"#E5ECF6\", \"caxis\": {\"gridcolor\": \"white\", \"linecolor\": \"white\", \"ticks\": \"\"}}, \"title\": {\"x\": 0.05}, \"xaxis\": {\"automargin\": true, \"gridcolor\": \"white\", \"linecolor\": \"white\", \"ticks\": \"\", \"title\": {\"standoff\": 15}, \"zerolinecolor\": \"white\", \"zerolinewidth\": 2}, \"yaxis\": {\"automargin\": true, \"gridcolor\": \"white\", \"linecolor\": \"white\", \"ticks\": \"\", \"title\": {\"standoff\": 15}, \"zerolinecolor\": \"white\", \"zerolinewidth\": 2}}}},\n",
       "                        {\"responsive\": true}\n",
       "                    ).then(function(){\n",
       "                            \n",
       "var gd = document.getElementById('59c2fa7a-669d-4390-8346-d2e9be4e416d');\n",
       "var x = new MutationObserver(function (mutations, observer) {{\n",
       "        var display = window.getComputedStyle(gd).display;\n",
       "        if (!display || display === 'none') {{\n",
       "            console.log([gd, 'removed!']);\n",
       "            Plotly.purge(gd);\n",
       "            observer.disconnect();\n",
       "        }}\n",
       "}});\n",
       "\n",
       "// Listen for the removal of the full notebook cells\n",
       "var notebookContainer = gd.closest('#notebook-container');\n",
       "if (notebookContainer) {{\n",
       "    x.observe(notebookContainer, {childList: true});\n",
       "}}\n",
       "\n",
       "// Listen for the clearing of the current output cell\n",
       "var outputEl = gd.closest('.output');\n",
       "if (outputEl) {{\n",
       "    x.observe(outputEl, {childList: true});\n",
       "}}\n",
       "\n",
       "                        })\n",
       "                };\n",
       "                });\n",
       "            </script>\n",
       "        </div>"
      ]
     },
     "metadata": {},
     "output_type": "display_data"
    }
   ],
   "source": [
    "points1 = temp1.iloc[:,[-1,-2]].values\n",
    "# hover = temp.iloc[0]\n",
    "x_point = X[:,0]\n",
    "y_point = X[:,1]\n",
    "trace = go.Scatter(\n",
    "                  x = x_point,\n",
    "                  y = y_point,\n",
    "                  mode = 'markers',\n",
    "                  hovertext = hover,\n",
    "                  )\n",
    "data = [trace]\n",
    "iplot(data)"
   ]
  },
  {
   "cell_type": "code",
   "execution_count": null,
   "metadata": {},
   "outputs": [],
   "source": []
  }
 ],
 "metadata": {
  "kernelspec": {
   "display_name": "Python 3",
   "language": "python",
   "name": "python3"
  },
  "language_info": {
   "codemirror_mode": {
    "name": "ipython",
    "version": 3
   },
   "file_extension": ".py",
   "mimetype": "text/x-python",
   "name": "python",
   "nbconvert_exporter": "python",
   "pygments_lexer": "ipython3",
   "version": "3.7.6"
  }
 },
 "nbformat": 4,
 "nbformat_minor": 4
}
